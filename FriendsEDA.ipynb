{
  "cells": [
    {
      "cell_type": "markdown",
      "metadata": {
        "id": "view-in-github",
        "colab_type": "text"
      },
      "source": [
        "<a href=\"https://colab.research.google.com/github/xghan99/Friends-EDA/blob/main/FriendsEDA.ipynb\" target=\"_parent\"><img src=\"https://colab.research.google.com/assets/colab-badge.svg\" alt=\"Open In Colab\"/></a>"
      ]
    },
    {
      "cell_type": "markdown",
      "source": [
        "## Introduction"
      ],
      "metadata": {
        "id": "YIoilm5FUghd"
      }
    },
    {
      "cell_type": "markdown",
      "source": [
        "This is an Exploratory Data Analysis on the Friends Dataset. Friends was a popular Sitcom that ran between 1994 and 2004. The datasets provide information on each of the show's episodes, and data such as the number of US viewers and IMDb ratings."
      ],
      "metadata": {
        "id": "DfSrsvafUmRq"
      }
    },
    {
      "cell_type": "markdown",
      "metadata": {
        "id": "IJHNj7Wh7luP"
      },
      "source": [
        "## Loading Data"
      ]
    },
    {
      "cell_type": "markdown",
      "source": [
        "In this Exploratory Data Analysis, we will be making use of the pandas Python library."
      ],
      "metadata": {
        "id": "daBowvlQdCG2"
      }
    },
    {
      "cell_type": "code",
      "execution_count": 2,
      "metadata": {
        "id": "R2vRnphc8JqL"
      },
      "outputs": [],
      "source": [
        "#Pulling Data from github\n",
        "url_episodes = \"https://raw.githubusercontent.com/xghan99/Friends-EDA/main/friends_episodes.csv\"\n",
        "url_imdb = \"https://raw.githubusercontent.com/xghan99/Friends-EDA/main/friends_imdb.csv\"\n",
        "import pandas as pd\n",
        "#Converting CSV file to a Pandas Dataframe\n",
        "df_episodes = pd.read_csv(url_episodes)\n",
        "df_imdb = pd.read_csv(url_imdb)"
      ]
    },
    {
      "cell_type": "code",
      "execution_count": 3,
      "metadata": {
        "colab": {
          "base_uri": "https://localhost:8080/",
          "height": 337
        },
        "id": "5J6YF4Cu80dg",
        "outputId": "45aca8af-e12d-44cd-e32e-ac5ac4471f89"
      },
      "outputs": [
        {
          "output_type": "execute_result",
          "data": {
            "text/html": [
              "\n",
              "  <div id=\"df-6582cbb7-0f0c-4ed5-ade6-2a5abe174ff9\">\n",
              "    <div class=\"colab-df-container\">\n",
              "      <div>\n",
              "<style scoped>\n",
              "    .dataframe tbody tr th:only-of-type {\n",
              "        vertical-align: middle;\n",
              "    }\n",
              "\n",
              "    .dataframe tbody tr th {\n",
              "        vertical-align: top;\n",
              "    }\n",
              "\n",
              "    .dataframe thead th {\n",
              "        text-align: right;\n",
              "    }\n",
              "</style>\n",
              "<table border=\"1\" class=\"dataframe\">\n",
              "  <thead>\n",
              "    <tr style=\"text-align: right;\">\n",
              "      <th></th>\n",
              "      <th>season</th>\n",
              "      <th>episode_num_in_season</th>\n",
              "      <th>episode_num_overall</th>\n",
              "      <th>title</th>\n",
              "      <th>directed_by</th>\n",
              "      <th>written_by</th>\n",
              "      <th>original_air_date</th>\n",
              "      <th>prod_code</th>\n",
              "      <th>us_viewers</th>\n",
              "    </tr>\n",
              "  </thead>\n",
              "  <tbody>\n",
              "    <tr>\n",
              "      <th>0</th>\n",
              "      <td>1</td>\n",
              "      <td>1</td>\n",
              "      <td>1</td>\n",
              "      <td>The One Where Monica Gets a Roommate</td>\n",
              "      <td>James Burrows</td>\n",
              "      <td>David Crane &amp; Marta Kauffman</td>\n",
              "      <td>1994-09-22</td>\n",
              "      <td>456650</td>\n",
              "      <td>21500000.0</td>\n",
              "    </tr>\n",
              "    <tr>\n",
              "      <th>1</th>\n",
              "      <td>1</td>\n",
              "      <td>2</td>\n",
              "      <td>2</td>\n",
              "      <td>The One with the Sonogram at the End</td>\n",
              "      <td>James Burrows</td>\n",
              "      <td>David Crane &amp; Marta Kauffman</td>\n",
              "      <td>1994-09-29</td>\n",
              "      <td>456652</td>\n",
              "      <td>20200000.0</td>\n",
              "    </tr>\n",
              "    <tr>\n",
              "      <th>2</th>\n",
              "      <td>1</td>\n",
              "      <td>3</td>\n",
              "      <td>3</td>\n",
              "      <td>The One with the Thumb</td>\n",
              "      <td>James Burrows</td>\n",
              "      <td>Jeffrey Astrof &amp; Mike Sikowitz</td>\n",
              "      <td>1994-10-06</td>\n",
              "      <td>456651</td>\n",
              "      <td>19500000.0</td>\n",
              "    </tr>\n",
              "    <tr>\n",
              "      <th>3</th>\n",
              "      <td>1</td>\n",
              "      <td>4</td>\n",
              "      <td>4</td>\n",
              "      <td>The One with George Stephanopoulos</td>\n",
              "      <td>James Burrows</td>\n",
              "      <td>Alexa Junge</td>\n",
              "      <td>1994-10-13</td>\n",
              "      <td>456654</td>\n",
              "      <td>19700000.0</td>\n",
              "    </tr>\n",
              "    <tr>\n",
              "      <th>4</th>\n",
              "      <td>1</td>\n",
              "      <td>5</td>\n",
              "      <td>5</td>\n",
              "      <td>The One with the East German Laundry Detergent</td>\n",
              "      <td>Pamela Fryman</td>\n",
              "      <td>Jeff Greenstein &amp; Jeff Strauss</td>\n",
              "      <td>1994-10-20</td>\n",
              "      <td>456653</td>\n",
              "      <td>18600000.0</td>\n",
              "    </tr>\n",
              "  </tbody>\n",
              "</table>\n",
              "</div>\n",
              "      <button class=\"colab-df-convert\" onclick=\"convertToInteractive('df-6582cbb7-0f0c-4ed5-ade6-2a5abe174ff9')\"\n",
              "              title=\"Convert this dataframe to an interactive table.\"\n",
              "              style=\"display:none;\">\n",
              "        \n",
              "  <svg xmlns=\"http://www.w3.org/2000/svg\" height=\"24px\"viewBox=\"0 0 24 24\"\n",
              "       width=\"24px\">\n",
              "    <path d=\"M0 0h24v24H0V0z\" fill=\"none\"/>\n",
              "    <path d=\"M18.56 5.44l.94 2.06.94-2.06 2.06-.94-2.06-.94-.94-2.06-.94 2.06-2.06.94zm-11 1L8.5 8.5l.94-2.06 2.06-.94-2.06-.94L8.5 2.5l-.94 2.06-2.06.94zm10 10l.94 2.06.94-2.06 2.06-.94-2.06-.94-.94-2.06-.94 2.06-2.06.94z\"/><path d=\"M17.41 7.96l-1.37-1.37c-.4-.4-.92-.59-1.43-.59-.52 0-1.04.2-1.43.59L10.3 9.45l-7.72 7.72c-.78.78-.78 2.05 0 2.83L4 21.41c.39.39.9.59 1.41.59.51 0 1.02-.2 1.41-.59l7.78-7.78 2.81-2.81c.8-.78.8-2.07 0-2.86zM5.41 20L4 18.59l7.72-7.72 1.47 1.35L5.41 20z\"/>\n",
              "  </svg>\n",
              "      </button>\n",
              "      \n",
              "  <style>\n",
              "    .colab-df-container {\n",
              "      display:flex;\n",
              "      flex-wrap:wrap;\n",
              "      gap: 12px;\n",
              "    }\n",
              "\n",
              "    .colab-df-convert {\n",
              "      background-color: #E8F0FE;\n",
              "      border: none;\n",
              "      border-radius: 50%;\n",
              "      cursor: pointer;\n",
              "      display: none;\n",
              "      fill: #1967D2;\n",
              "      height: 32px;\n",
              "      padding: 0 0 0 0;\n",
              "      width: 32px;\n",
              "    }\n",
              "\n",
              "    .colab-df-convert:hover {\n",
              "      background-color: #E2EBFA;\n",
              "      box-shadow: 0px 1px 2px rgba(60, 64, 67, 0.3), 0px 1px 3px 1px rgba(60, 64, 67, 0.15);\n",
              "      fill: #174EA6;\n",
              "    }\n",
              "\n",
              "    [theme=dark] .colab-df-convert {\n",
              "      background-color: #3B4455;\n",
              "      fill: #D2E3FC;\n",
              "    }\n",
              "\n",
              "    [theme=dark] .colab-df-convert:hover {\n",
              "      background-color: #434B5C;\n",
              "      box-shadow: 0px 1px 3px 1px rgba(0, 0, 0, 0.15);\n",
              "      filter: drop-shadow(0px 1px 2px rgba(0, 0, 0, 0.3));\n",
              "      fill: #FFFFFF;\n",
              "    }\n",
              "  </style>\n",
              "\n",
              "      <script>\n",
              "        const buttonEl =\n",
              "          document.querySelector('#df-6582cbb7-0f0c-4ed5-ade6-2a5abe174ff9 button.colab-df-convert');\n",
              "        buttonEl.style.display =\n",
              "          google.colab.kernel.accessAllowed ? 'block' : 'none';\n",
              "\n",
              "        async function convertToInteractive(key) {\n",
              "          const element = document.querySelector('#df-6582cbb7-0f0c-4ed5-ade6-2a5abe174ff9');\n",
              "          const dataTable =\n",
              "            await google.colab.kernel.invokeFunction('convertToInteractive',\n",
              "                                                     [key], {});\n",
              "          if (!dataTable) return;\n",
              "\n",
              "          const docLinkHtml = 'Like what you see? Visit the ' +\n",
              "            '<a target=\"_blank\" href=https://colab.research.google.com/notebooks/data_table.ipynb>data table notebook</a>'\n",
              "            + ' to learn more about interactive tables.';\n",
              "          element.innerHTML = '';\n",
              "          dataTable['output_type'] = 'display_data';\n",
              "          await google.colab.output.renderOutput(dataTable, element);\n",
              "          const docLink = document.createElement('div');\n",
              "          docLink.innerHTML = docLinkHtml;\n",
              "          element.appendChild(docLink);\n",
              "        }\n",
              "      </script>\n",
              "    </div>\n",
              "  </div>\n",
              "  "
            ],
            "text/plain": [
              "   season  episode_num_in_season  ...  prod_code  us_viewers\n",
              "0       1                      1  ...     456650  21500000.0\n",
              "1       1                      2  ...     456652  20200000.0\n",
              "2       1                      3  ...     456651  19500000.0\n",
              "3       1                      4  ...     456654  19700000.0\n",
              "4       1                      5  ...     456653  18600000.0\n",
              "\n",
              "[5 rows x 9 columns]"
            ]
          },
          "metadata": {},
          "execution_count": 3
        }
      ],
      "source": [
        "df_episodes.head()"
      ]
    },
    {
      "cell_type": "markdown",
      "source": [
        "The df_episodes dataframe consists of the episode information together with the number of viewers in the United States."
      ],
      "metadata": {
        "id": "dAYAZRBCdNuw"
      }
    },
    {
      "cell_type": "code",
      "execution_count": 4,
      "metadata": {
        "colab": {
          "base_uri": "https://localhost:8080/",
          "height": 302
        },
        "id": "3eZP40QN-8pR",
        "outputId": "3497bb29-a2ea-41c4-dabc-7057a31e1d67"
      },
      "outputs": [
        {
          "output_type": "execute_result",
          "data": {
            "text/html": [
              "\n",
              "  <div id=\"df-e35b3b48-3508-44f8-95c7-ebb2283d2b60\">\n",
              "    <div class=\"colab-df-container\">\n",
              "      <div>\n",
              "<style scoped>\n",
              "    .dataframe tbody tr th:only-of-type {\n",
              "        vertical-align: middle;\n",
              "    }\n",
              "\n",
              "    .dataframe tbody tr th {\n",
              "        vertical-align: top;\n",
              "    }\n",
              "\n",
              "    .dataframe thead th {\n",
              "        text-align: right;\n",
              "    }\n",
              "</style>\n",
              "<table border=\"1\" class=\"dataframe\">\n",
              "  <thead>\n",
              "    <tr style=\"text-align: right;\">\n",
              "      <th></th>\n",
              "      <th>season</th>\n",
              "      <th>episode_num</th>\n",
              "      <th>title</th>\n",
              "      <th>original_air_date</th>\n",
              "      <th>imdb_rating</th>\n",
              "      <th>total_votes</th>\n",
              "      <th>desc</th>\n",
              "    </tr>\n",
              "  </thead>\n",
              "  <tbody>\n",
              "    <tr>\n",
              "      <th>0</th>\n",
              "      <td>1</td>\n",
              "      <td>1</td>\n",
              "      <td>The One Where Monica Gets a Roommate</td>\n",
              "      <td>22 Sep. 1994</td>\n",
              "      <td>8.3</td>\n",
              "      <td>8378</td>\n",
              "      <td>Monica and the gang introduce Rachel to the \"r...</td>\n",
              "    </tr>\n",
              "    <tr>\n",
              "      <th>1</th>\n",
              "      <td>1</td>\n",
              "      <td>2</td>\n",
              "      <td>The One with the Sonogram at the End</td>\n",
              "      <td>29 Sep. 1994</td>\n",
              "      <td>8.0</td>\n",
              "      <td>6441</td>\n",
              "      <td>Ross finds out his ex-wife is pregnant. Rachel...</td>\n",
              "    </tr>\n",
              "    <tr>\n",
              "      <th>2</th>\n",
              "      <td>1</td>\n",
              "      <td>3</td>\n",
              "      <td>The One with the Thumb</td>\n",
              "      <td>6 Oct. 1994</td>\n",
              "      <td>8.1</td>\n",
              "      <td>6060</td>\n",
              "      <td>Monica becomes irritated when everyone likes h...</td>\n",
              "    </tr>\n",
              "    <tr>\n",
              "      <th>3</th>\n",
              "      <td>1</td>\n",
              "      <td>4</td>\n",
              "      <td>The One with George Stephanopoulos</td>\n",
              "      <td>13 Oct. 1994</td>\n",
              "      <td>8.1</td>\n",
              "      <td>5892</td>\n",
              "      <td>Joey and Chandler take Ross to a hockey game t...</td>\n",
              "    </tr>\n",
              "    <tr>\n",
              "      <th>4</th>\n",
              "      <td>1</td>\n",
              "      <td>5</td>\n",
              "      <td>The One with the East German Laundry Detergent</td>\n",
              "      <td>20 Oct. 1994</td>\n",
              "      <td>8.4</td>\n",
              "      <td>5872</td>\n",
              "      <td>Eager to spend time with Rachel, Ross pretends...</td>\n",
              "    </tr>\n",
              "  </tbody>\n",
              "</table>\n",
              "</div>\n",
              "      <button class=\"colab-df-convert\" onclick=\"convertToInteractive('df-e35b3b48-3508-44f8-95c7-ebb2283d2b60')\"\n",
              "              title=\"Convert this dataframe to an interactive table.\"\n",
              "              style=\"display:none;\">\n",
              "        \n",
              "  <svg xmlns=\"http://www.w3.org/2000/svg\" height=\"24px\"viewBox=\"0 0 24 24\"\n",
              "       width=\"24px\">\n",
              "    <path d=\"M0 0h24v24H0V0z\" fill=\"none\"/>\n",
              "    <path d=\"M18.56 5.44l.94 2.06.94-2.06 2.06-.94-2.06-.94-.94-2.06-.94 2.06-2.06.94zm-11 1L8.5 8.5l.94-2.06 2.06-.94-2.06-.94L8.5 2.5l-.94 2.06-2.06.94zm10 10l.94 2.06.94-2.06 2.06-.94-2.06-.94-.94-2.06-.94 2.06-2.06.94z\"/><path d=\"M17.41 7.96l-1.37-1.37c-.4-.4-.92-.59-1.43-.59-.52 0-1.04.2-1.43.59L10.3 9.45l-7.72 7.72c-.78.78-.78 2.05 0 2.83L4 21.41c.39.39.9.59 1.41.59.51 0 1.02-.2 1.41-.59l7.78-7.78 2.81-2.81c.8-.78.8-2.07 0-2.86zM5.41 20L4 18.59l7.72-7.72 1.47 1.35L5.41 20z\"/>\n",
              "  </svg>\n",
              "      </button>\n",
              "      \n",
              "  <style>\n",
              "    .colab-df-container {\n",
              "      display:flex;\n",
              "      flex-wrap:wrap;\n",
              "      gap: 12px;\n",
              "    }\n",
              "\n",
              "    .colab-df-convert {\n",
              "      background-color: #E8F0FE;\n",
              "      border: none;\n",
              "      border-radius: 50%;\n",
              "      cursor: pointer;\n",
              "      display: none;\n",
              "      fill: #1967D2;\n",
              "      height: 32px;\n",
              "      padding: 0 0 0 0;\n",
              "      width: 32px;\n",
              "    }\n",
              "\n",
              "    .colab-df-convert:hover {\n",
              "      background-color: #E2EBFA;\n",
              "      box-shadow: 0px 1px 2px rgba(60, 64, 67, 0.3), 0px 1px 3px 1px rgba(60, 64, 67, 0.15);\n",
              "      fill: #174EA6;\n",
              "    }\n",
              "\n",
              "    [theme=dark] .colab-df-convert {\n",
              "      background-color: #3B4455;\n",
              "      fill: #D2E3FC;\n",
              "    }\n",
              "\n",
              "    [theme=dark] .colab-df-convert:hover {\n",
              "      background-color: #434B5C;\n",
              "      box-shadow: 0px 1px 3px 1px rgba(0, 0, 0, 0.15);\n",
              "      filter: drop-shadow(0px 1px 2px rgba(0, 0, 0, 0.3));\n",
              "      fill: #FFFFFF;\n",
              "    }\n",
              "  </style>\n",
              "\n",
              "      <script>\n",
              "        const buttonEl =\n",
              "          document.querySelector('#df-e35b3b48-3508-44f8-95c7-ebb2283d2b60 button.colab-df-convert');\n",
              "        buttonEl.style.display =\n",
              "          google.colab.kernel.accessAllowed ? 'block' : 'none';\n",
              "\n",
              "        async function convertToInteractive(key) {\n",
              "          const element = document.querySelector('#df-e35b3b48-3508-44f8-95c7-ebb2283d2b60');\n",
              "          const dataTable =\n",
              "            await google.colab.kernel.invokeFunction('convertToInteractive',\n",
              "                                                     [key], {});\n",
              "          if (!dataTable) return;\n",
              "\n",
              "          const docLinkHtml = 'Like what you see? Visit the ' +\n",
              "            '<a target=\"_blank\" href=https://colab.research.google.com/notebooks/data_table.ipynb>data table notebook</a>'\n",
              "            + ' to learn more about interactive tables.';\n",
              "          element.innerHTML = '';\n",
              "          dataTable['output_type'] = 'display_data';\n",
              "          await google.colab.output.renderOutput(dataTable, element);\n",
              "          const docLink = document.createElement('div');\n",
              "          docLink.innerHTML = docLinkHtml;\n",
              "          element.appendChild(docLink);\n",
              "        }\n",
              "      </script>\n",
              "    </div>\n",
              "  </div>\n",
              "  "
            ],
            "text/plain": [
              "   season  ...                                               desc\n",
              "0       1  ...  Monica and the gang introduce Rachel to the \"r...\n",
              "1       1  ...  Ross finds out his ex-wife is pregnant. Rachel...\n",
              "2       1  ...  Monica becomes irritated when everyone likes h...\n",
              "3       1  ...  Joey and Chandler take Ross to a hockey game t...\n",
              "4       1  ...  Eager to spend time with Rachel, Ross pretends...\n",
              "\n",
              "[5 rows x 7 columns]"
            ]
          },
          "metadata": {},
          "execution_count": 4
        }
      ],
      "source": [
        "df_imdb.head()"
      ]
    },
    {
      "cell_type": "markdown",
      "source": [
        "The df_imdb dataframe has similar episode information, with additional information on the episodes IMDb Rating and the total number of votes."
      ],
      "metadata": {
        "id": "zpE3bJxNdXvp"
      }
    },
    {
      "cell_type": "markdown",
      "metadata": {
        "id": "KzAJhGMV7gUZ"
      },
      "source": [
        "## Check for Missing Values"
      ]
    },
    {
      "cell_type": "code",
      "execution_count": 5,
      "metadata": {
        "colab": {
          "base_uri": "https://localhost:8080/"
        },
        "id": "HoVrmlrN6sbA",
        "outputId": "4688d472-78d7-424c-e05e-d074f9258f65"
      },
      "outputs": [
        {
          "output_type": "execute_result",
          "data": {
            "text/plain": [
              "season                   0\n",
              "episode_num_in_season    0\n",
              "episode_num_overall      0\n",
              "title                    0\n",
              "directed_by              0\n",
              "written_by               0\n",
              "original_air_date        0\n",
              "prod_code                0\n",
              "us_viewers               0\n",
              "dtype: int64"
            ]
          },
          "metadata": {},
          "execution_count": 5
        }
      ],
      "source": [
        "df_episodes.isnull().sum()"
      ]
    },
    {
      "cell_type": "code",
      "execution_count": 6,
      "metadata": {
        "colab": {
          "base_uri": "https://localhost:8080/"
        },
        "id": "J5XfFhBP7X5P",
        "outputId": "22de072f-d867-4267-f2f7-763a350b2e5a"
      },
      "outputs": [
        {
          "output_type": "execute_result",
          "data": {
            "text/plain": [
              "season               0\n",
              "episode_num          0\n",
              "title                0\n",
              "original_air_date    0\n",
              "imdb_rating          0\n",
              "total_votes          0\n",
              "desc                 0\n",
              "dtype: int64"
            ]
          },
          "metadata": {},
          "execution_count": 6
        }
      ],
      "source": [
        "df_imdb.isnull().sum()"
      ]
    },
    {
      "cell_type": "markdown",
      "source": [
        "No missing values in either of the dataframes."
      ],
      "metadata": {
        "id": "rrDLi0zJSOZG"
      }
    },
    {
      "cell_type": "markdown",
      "metadata": {
        "id": "AinSx_ml7u2Q"
      },
      "source": [
        "## Overview of Dataset and Correcting Errors\n"
      ]
    },
    {
      "cell_type": "code",
      "execution_count": 7,
      "metadata": {
        "colab": {
          "base_uri": "https://localhost:8080/"
        },
        "id": "8ZVMDX8fR0rA",
        "outputId": "d0a6f6c5-09a0-4f4b-f691-aefb53ec54d1"
      },
      "outputs": [
        {
          "output_type": "execute_result",
          "data": {
            "text/plain": [
              "(236, 9)"
            ]
          },
          "metadata": {},
          "execution_count": 7
        }
      ],
      "source": [
        "df_episodes.shape"
      ]
    },
    {
      "cell_type": "code",
      "execution_count": 8,
      "metadata": {
        "colab": {
          "base_uri": "https://localhost:8080/"
        },
        "id": "2MqlKwTIR0Z0",
        "outputId": "0c42c203-2c35-4394-f122-769b14e52a6a"
      },
      "outputs": [
        {
          "output_type": "execute_result",
          "data": {
            "text/plain": [
              "(235, 7)"
            ]
          },
          "metadata": {},
          "execution_count": 8
        }
      ],
      "source": [
        "df_imdb.shape"
      ]
    },
    {
      "cell_type": "markdown",
      "source": [
        "df_episodes has 236 rows and 9 columns, while df_imdb has 235 rows and 7 columns. It is odd that the episodes dataset has 1 more entry than the imdb dataset, when there should be the same number of episodes. Given that the data is in chronological order. Lets check the tail of the datasets."
      ],
      "metadata": {
        "id": "zjRJy9L_SUeE"
      }
    },
    {
      "cell_type": "code",
      "execution_count": 9,
      "metadata": {
        "colab": {
          "base_uri": "https://localhost:8080/",
          "height": 389
        },
        "id": "bQvbcnRLSLo4",
        "outputId": "7c6e0d3f-c5d8-44ee-bdcb-aa5f0a19abe6"
      },
      "outputs": [
        {
          "output_type": "execute_result",
          "data": {
            "text/html": [
              "\n",
              "  <div id=\"df-280af9ba-f2c4-468f-9a35-e6f69b80608d\">\n",
              "    <div class=\"colab-df-container\">\n",
              "      <div>\n",
              "<style scoped>\n",
              "    .dataframe tbody tr th:only-of-type {\n",
              "        vertical-align: middle;\n",
              "    }\n",
              "\n",
              "    .dataframe tbody tr th {\n",
              "        vertical-align: top;\n",
              "    }\n",
              "\n",
              "    .dataframe thead th {\n",
              "        text-align: right;\n",
              "    }\n",
              "</style>\n",
              "<table border=\"1\" class=\"dataframe\">\n",
              "  <thead>\n",
              "    <tr style=\"text-align: right;\">\n",
              "      <th></th>\n",
              "      <th>season</th>\n",
              "      <th>episode_num_in_season</th>\n",
              "      <th>episode_num_overall</th>\n",
              "      <th>title</th>\n",
              "      <th>directed_by</th>\n",
              "      <th>written_by</th>\n",
              "      <th>original_air_date</th>\n",
              "      <th>prod_code</th>\n",
              "      <th>us_viewers</th>\n",
              "    </tr>\n",
              "  </thead>\n",
              "  <tbody>\n",
              "    <tr>\n",
              "      <th>231</th>\n",
              "      <td>10</td>\n",
              "      <td>14</td>\n",
              "      <td>232</td>\n",
              "      <td>The One with Princess Consuela</td>\n",
              "      <td>Gary Halvorson</td>\n",
              "      <td>Story by: Robert CarlockTeleplay by: Tracy Reilly</td>\n",
              "      <td>2004-02-26</td>\n",
              "      <td>176263</td>\n",
              "      <td>22820000.0</td>\n",
              "    </tr>\n",
              "    <tr>\n",
              "      <th>232</th>\n",
              "      <td>10</td>\n",
              "      <td>15</td>\n",
              "      <td>233</td>\n",
              "      <td>The One Where Estelle Dies</td>\n",
              "      <td>Gary Halvorson</td>\n",
              "      <td>Story by: Mark KunerthTeleplay by: David Crane...</td>\n",
              "      <td>2004-04-22</td>\n",
              "      <td>176264</td>\n",
              "      <td>22640000.0</td>\n",
              "    </tr>\n",
              "    <tr>\n",
              "      <th>233</th>\n",
              "      <td>10</td>\n",
              "      <td>16</td>\n",
              "      <td>234</td>\n",
              "      <td>The One with Rachel's Going Away Party</td>\n",
              "      <td>Gary Halvorson</td>\n",
              "      <td>Andrew Reich &amp; Ted Cohen</td>\n",
              "      <td>2004-04-29</td>\n",
              "      <td>176265</td>\n",
              "      <td>24510000.0</td>\n",
              "    </tr>\n",
              "    <tr>\n",
              "      <th>234</th>\n",
              "      <td>10</td>\n",
              "      <td>17</td>\n",
              "      <td>235</td>\n",
              "      <td>The Last One</td>\n",
              "      <td>Kevin S. Bright</td>\n",
              "      <td>Marta Kauffman &amp; David Crane</td>\n",
              "      <td>2004-05-06</td>\n",
              "      <td>176266</td>\n",
              "      <td>52460000.0</td>\n",
              "    </tr>\n",
              "    <tr>\n",
              "      <th>235</th>\n",
              "      <td>10</td>\n",
              "      <td>18</td>\n",
              "      <td>236</td>\n",
              "      <td>The Last One</td>\n",
              "      <td>Kevin S. Bright</td>\n",
              "      <td>Marta Kauffman &amp; David Crane</td>\n",
              "      <td>2004-05-06</td>\n",
              "      <td>176267</td>\n",
              "      <td>52460000.0</td>\n",
              "    </tr>\n",
              "  </tbody>\n",
              "</table>\n",
              "</div>\n",
              "      <button class=\"colab-df-convert\" onclick=\"convertToInteractive('df-280af9ba-f2c4-468f-9a35-e6f69b80608d')\"\n",
              "              title=\"Convert this dataframe to an interactive table.\"\n",
              "              style=\"display:none;\">\n",
              "        \n",
              "  <svg xmlns=\"http://www.w3.org/2000/svg\" height=\"24px\"viewBox=\"0 0 24 24\"\n",
              "       width=\"24px\">\n",
              "    <path d=\"M0 0h24v24H0V0z\" fill=\"none\"/>\n",
              "    <path d=\"M18.56 5.44l.94 2.06.94-2.06 2.06-.94-2.06-.94-.94-2.06-.94 2.06-2.06.94zm-11 1L8.5 8.5l.94-2.06 2.06-.94-2.06-.94L8.5 2.5l-.94 2.06-2.06.94zm10 10l.94 2.06.94-2.06 2.06-.94-2.06-.94-.94-2.06-.94 2.06-2.06.94z\"/><path d=\"M17.41 7.96l-1.37-1.37c-.4-.4-.92-.59-1.43-.59-.52 0-1.04.2-1.43.59L10.3 9.45l-7.72 7.72c-.78.78-.78 2.05 0 2.83L4 21.41c.39.39.9.59 1.41.59.51 0 1.02-.2 1.41-.59l7.78-7.78 2.81-2.81c.8-.78.8-2.07 0-2.86zM5.41 20L4 18.59l7.72-7.72 1.47 1.35L5.41 20z\"/>\n",
              "  </svg>\n",
              "      </button>\n",
              "      \n",
              "  <style>\n",
              "    .colab-df-container {\n",
              "      display:flex;\n",
              "      flex-wrap:wrap;\n",
              "      gap: 12px;\n",
              "    }\n",
              "\n",
              "    .colab-df-convert {\n",
              "      background-color: #E8F0FE;\n",
              "      border: none;\n",
              "      border-radius: 50%;\n",
              "      cursor: pointer;\n",
              "      display: none;\n",
              "      fill: #1967D2;\n",
              "      height: 32px;\n",
              "      padding: 0 0 0 0;\n",
              "      width: 32px;\n",
              "    }\n",
              "\n",
              "    .colab-df-convert:hover {\n",
              "      background-color: #E2EBFA;\n",
              "      box-shadow: 0px 1px 2px rgba(60, 64, 67, 0.3), 0px 1px 3px 1px rgba(60, 64, 67, 0.15);\n",
              "      fill: #174EA6;\n",
              "    }\n",
              "\n",
              "    [theme=dark] .colab-df-convert {\n",
              "      background-color: #3B4455;\n",
              "      fill: #D2E3FC;\n",
              "    }\n",
              "\n",
              "    [theme=dark] .colab-df-convert:hover {\n",
              "      background-color: #434B5C;\n",
              "      box-shadow: 0px 1px 3px 1px rgba(0, 0, 0, 0.15);\n",
              "      filter: drop-shadow(0px 1px 2px rgba(0, 0, 0, 0.3));\n",
              "      fill: #FFFFFF;\n",
              "    }\n",
              "  </style>\n",
              "\n",
              "      <script>\n",
              "        const buttonEl =\n",
              "          document.querySelector('#df-280af9ba-f2c4-468f-9a35-e6f69b80608d button.colab-df-convert');\n",
              "        buttonEl.style.display =\n",
              "          google.colab.kernel.accessAllowed ? 'block' : 'none';\n",
              "\n",
              "        async function convertToInteractive(key) {\n",
              "          const element = document.querySelector('#df-280af9ba-f2c4-468f-9a35-e6f69b80608d');\n",
              "          const dataTable =\n",
              "            await google.colab.kernel.invokeFunction('convertToInteractive',\n",
              "                                                     [key], {});\n",
              "          if (!dataTable) return;\n",
              "\n",
              "          const docLinkHtml = 'Like what you see? Visit the ' +\n",
              "            '<a target=\"_blank\" href=https://colab.research.google.com/notebooks/data_table.ipynb>data table notebook</a>'\n",
              "            + ' to learn more about interactive tables.';\n",
              "          element.innerHTML = '';\n",
              "          dataTable['output_type'] = 'display_data';\n",
              "          await google.colab.output.renderOutput(dataTable, element);\n",
              "          const docLink = document.createElement('div');\n",
              "          docLink.innerHTML = docLinkHtml;\n",
              "          element.appendChild(docLink);\n",
              "        }\n",
              "      </script>\n",
              "    </div>\n",
              "  </div>\n",
              "  "
            ],
            "text/plain": [
              "     season  episode_num_in_season  ...  prod_code  us_viewers\n",
              "231      10                     14  ...     176263  22820000.0\n",
              "232      10                     15  ...     176264  22640000.0\n",
              "233      10                     16  ...     176265  24510000.0\n",
              "234      10                     17  ...     176266  52460000.0\n",
              "235      10                     18  ...     176267  52460000.0\n",
              "\n",
              "[5 rows x 9 columns]"
            ]
          },
          "metadata": {},
          "execution_count": 9
        }
      ],
      "source": [
        "df_episodes.tail()"
      ]
    },
    {
      "cell_type": "code",
      "execution_count": 10,
      "metadata": {
        "colab": {
          "base_uri": "https://localhost:8080/",
          "height": 250
        },
        "id": "sVOQWtIeSPsX",
        "outputId": "c2b501d0-3397-46bd-c600-df3487d70612"
      },
      "outputs": [
        {
          "output_type": "execute_result",
          "data": {
            "text/html": [
              "\n",
              "  <div id=\"df-9a6be1f2-f334-40ce-8953-1ecb1cd7beea\">\n",
              "    <div class=\"colab-df-container\">\n",
              "      <div>\n",
              "<style scoped>\n",
              "    .dataframe tbody tr th:only-of-type {\n",
              "        vertical-align: middle;\n",
              "    }\n",
              "\n",
              "    .dataframe tbody tr th {\n",
              "        vertical-align: top;\n",
              "    }\n",
              "\n",
              "    .dataframe thead th {\n",
              "        text-align: right;\n",
              "    }\n",
              "</style>\n",
              "<table border=\"1\" class=\"dataframe\">\n",
              "  <thead>\n",
              "    <tr style=\"text-align: right;\">\n",
              "      <th></th>\n",
              "      <th>season</th>\n",
              "      <th>episode_num</th>\n",
              "      <th>title</th>\n",
              "      <th>original_air_date</th>\n",
              "      <th>imdb_rating</th>\n",
              "      <th>total_votes</th>\n",
              "      <th>desc</th>\n",
              "    </tr>\n",
              "  </thead>\n",
              "  <tbody>\n",
              "    <tr>\n",
              "      <th>230</th>\n",
              "      <td>10</td>\n",
              "      <td>13</td>\n",
              "      <td>The One Where Joey Speaks French</td>\n",
              "      <td>19 Feb. 2004</td>\n",
              "      <td>8.5</td>\n",
              "      <td>4054</td>\n",
              "      <td>Phoebe tries to teach Joey to speak French for...</td>\n",
              "    </tr>\n",
              "    <tr>\n",
              "      <th>231</th>\n",
              "      <td>10</td>\n",
              "      <td>14</td>\n",
              "      <td>The One with Princess Consuela</td>\n",
              "      <td>26 Feb. 2004</td>\n",
              "      <td>8.6</td>\n",
              "      <td>3953</td>\n",
              "      <td>When Phoebe goes to get her name changed she r...</td>\n",
              "    </tr>\n",
              "    <tr>\n",
              "      <th>232</th>\n",
              "      <td>10</td>\n",
              "      <td>15</td>\n",
              "      <td>The One Where Estelle Dies</td>\n",
              "      <td>22 Apr. 2004</td>\n",
              "      <td>8.5</td>\n",
              "      <td>3700</td>\n",
              "      <td>Ross tries to get Rachel to go back to Ralph L...</td>\n",
              "    </tr>\n",
              "    <tr>\n",
              "      <th>233</th>\n",
              "      <td>10</td>\n",
              "      <td>16</td>\n",
              "      <td>The One with Rachel's Going Away Party</td>\n",
              "      <td>29 Apr. 2004</td>\n",
              "      <td>8.9</td>\n",
              "      <td>4290</td>\n",
              "      <td>The gang throws Rachel a goodbye party, during...</td>\n",
              "    </tr>\n",
              "    <tr>\n",
              "      <th>234</th>\n",
              "      <td>10</td>\n",
              "      <td>17</td>\n",
              "      <td>The Last One</td>\n",
              "      <td>6 May 2004</td>\n",
              "      <td>9.7</td>\n",
              "      <td>14033</td>\n",
              "      <td>Phoebe races Ross to the airport in a bid to s...</td>\n",
              "    </tr>\n",
              "  </tbody>\n",
              "</table>\n",
              "</div>\n",
              "      <button class=\"colab-df-convert\" onclick=\"convertToInteractive('df-9a6be1f2-f334-40ce-8953-1ecb1cd7beea')\"\n",
              "              title=\"Convert this dataframe to an interactive table.\"\n",
              "              style=\"display:none;\">\n",
              "        \n",
              "  <svg xmlns=\"http://www.w3.org/2000/svg\" height=\"24px\"viewBox=\"0 0 24 24\"\n",
              "       width=\"24px\">\n",
              "    <path d=\"M0 0h24v24H0V0z\" fill=\"none\"/>\n",
              "    <path d=\"M18.56 5.44l.94 2.06.94-2.06 2.06-.94-2.06-.94-.94-2.06-.94 2.06-2.06.94zm-11 1L8.5 8.5l.94-2.06 2.06-.94-2.06-.94L8.5 2.5l-.94 2.06-2.06.94zm10 10l.94 2.06.94-2.06 2.06-.94-2.06-.94-.94-2.06-.94 2.06-2.06.94z\"/><path d=\"M17.41 7.96l-1.37-1.37c-.4-.4-.92-.59-1.43-.59-.52 0-1.04.2-1.43.59L10.3 9.45l-7.72 7.72c-.78.78-.78 2.05 0 2.83L4 21.41c.39.39.9.59 1.41.59.51 0 1.02-.2 1.41-.59l7.78-7.78 2.81-2.81c.8-.78.8-2.07 0-2.86zM5.41 20L4 18.59l7.72-7.72 1.47 1.35L5.41 20z\"/>\n",
              "  </svg>\n",
              "      </button>\n",
              "      \n",
              "  <style>\n",
              "    .colab-df-container {\n",
              "      display:flex;\n",
              "      flex-wrap:wrap;\n",
              "      gap: 12px;\n",
              "    }\n",
              "\n",
              "    .colab-df-convert {\n",
              "      background-color: #E8F0FE;\n",
              "      border: none;\n",
              "      border-radius: 50%;\n",
              "      cursor: pointer;\n",
              "      display: none;\n",
              "      fill: #1967D2;\n",
              "      height: 32px;\n",
              "      padding: 0 0 0 0;\n",
              "      width: 32px;\n",
              "    }\n",
              "\n",
              "    .colab-df-convert:hover {\n",
              "      background-color: #E2EBFA;\n",
              "      box-shadow: 0px 1px 2px rgba(60, 64, 67, 0.3), 0px 1px 3px 1px rgba(60, 64, 67, 0.15);\n",
              "      fill: #174EA6;\n",
              "    }\n",
              "\n",
              "    [theme=dark] .colab-df-convert {\n",
              "      background-color: #3B4455;\n",
              "      fill: #D2E3FC;\n",
              "    }\n",
              "\n",
              "    [theme=dark] .colab-df-convert:hover {\n",
              "      background-color: #434B5C;\n",
              "      box-shadow: 0px 1px 3px 1px rgba(0, 0, 0, 0.15);\n",
              "      filter: drop-shadow(0px 1px 2px rgba(0, 0, 0, 0.3));\n",
              "      fill: #FFFFFF;\n",
              "    }\n",
              "  </style>\n",
              "\n",
              "      <script>\n",
              "        const buttonEl =\n",
              "          document.querySelector('#df-9a6be1f2-f334-40ce-8953-1ecb1cd7beea button.colab-df-convert');\n",
              "        buttonEl.style.display =\n",
              "          google.colab.kernel.accessAllowed ? 'block' : 'none';\n",
              "\n",
              "        async function convertToInteractive(key) {\n",
              "          const element = document.querySelector('#df-9a6be1f2-f334-40ce-8953-1ecb1cd7beea');\n",
              "          const dataTable =\n",
              "            await google.colab.kernel.invokeFunction('convertToInteractive',\n",
              "                                                     [key], {});\n",
              "          if (!dataTable) return;\n",
              "\n",
              "          const docLinkHtml = 'Like what you see? Visit the ' +\n",
              "            '<a target=\"_blank\" href=https://colab.research.google.com/notebooks/data_table.ipynb>data table notebook</a>'\n",
              "            + ' to learn more about interactive tables.';\n",
              "          element.innerHTML = '';\n",
              "          dataTable['output_type'] = 'display_data';\n",
              "          await google.colab.output.renderOutput(dataTable, element);\n",
              "          const docLink = document.createElement('div');\n",
              "          docLink.innerHTML = docLinkHtml;\n",
              "          element.appendChild(docLink);\n",
              "        }\n",
              "      </script>\n",
              "    </div>\n",
              "  </div>\n",
              "  "
            ],
            "text/plain": [
              "     season  ...                                               desc\n",
              "230      10  ...  Phoebe tries to teach Joey to speak French for...\n",
              "231      10  ...  When Phoebe goes to get her name changed she r...\n",
              "232      10  ...  Ross tries to get Rachel to go back to Ralph L...\n",
              "233      10  ...  The gang throws Rachel a goodbye party, during...\n",
              "234      10  ...  Phoebe races Ross to the airport in a bid to s...\n",
              "\n",
              "[5 rows x 7 columns]"
            ]
          },
          "metadata": {},
          "execution_count": 10
        }
      ],
      "source": [
        "df_imdb.tail()"
      ]
    },
    {
      "cell_type": "markdown",
      "source": [
        "The episode titled \"The Last One\" was actually 2 episodes combined into 1, which explains the discrepancy. Hence, the last row of df_episodes would be deleted."
      ],
      "metadata": {
        "id": "p6MNveGSS8iv"
      }
    },
    {
      "cell_type": "code",
      "execution_count": 11,
      "metadata": {
        "colab": {
          "base_uri": "https://localhost:8080/",
          "height": 406
        },
        "id": "oJFz3DIqSWKM",
        "outputId": "79def526-7842-419e-c20c-2b17bce09fca"
      },
      "outputs": [
        {
          "output_type": "execute_result",
          "data": {
            "text/html": [
              "\n",
              "  <div id=\"df-036e7090-5012-4a2b-8a92-f009e79da1b0\">\n",
              "    <div class=\"colab-df-container\">\n",
              "      <div>\n",
              "<style scoped>\n",
              "    .dataframe tbody tr th:only-of-type {\n",
              "        vertical-align: middle;\n",
              "    }\n",
              "\n",
              "    .dataframe tbody tr th {\n",
              "        vertical-align: top;\n",
              "    }\n",
              "\n",
              "    .dataframe thead th {\n",
              "        text-align: right;\n",
              "    }\n",
              "</style>\n",
              "<table border=\"1\" class=\"dataframe\">\n",
              "  <thead>\n",
              "    <tr style=\"text-align: right;\">\n",
              "      <th></th>\n",
              "      <th>season</th>\n",
              "      <th>episode_num_in_season</th>\n",
              "      <th>episode_num_overall</th>\n",
              "      <th>title</th>\n",
              "      <th>directed_by</th>\n",
              "      <th>written_by</th>\n",
              "      <th>original_air_date</th>\n",
              "      <th>prod_code</th>\n",
              "      <th>us_viewers</th>\n",
              "    </tr>\n",
              "  </thead>\n",
              "  <tbody>\n",
              "    <tr>\n",
              "      <th>230</th>\n",
              "      <td>10</td>\n",
              "      <td>13</td>\n",
              "      <td>231</td>\n",
              "      <td>The One Where Joey Speaks French</td>\n",
              "      <td>Gary Halvorson</td>\n",
              "      <td>Sherry Bilsing-Graham &amp; Ellen Plummer</td>\n",
              "      <td>2004-02-19</td>\n",
              "      <td>176261</td>\n",
              "      <td>24270000.0</td>\n",
              "    </tr>\n",
              "    <tr>\n",
              "      <th>231</th>\n",
              "      <td>10</td>\n",
              "      <td>14</td>\n",
              "      <td>232</td>\n",
              "      <td>The One with Princess Consuela</td>\n",
              "      <td>Gary Halvorson</td>\n",
              "      <td>Story by: Robert CarlockTeleplay by: Tracy Reilly</td>\n",
              "      <td>2004-02-26</td>\n",
              "      <td>176263</td>\n",
              "      <td>22820000.0</td>\n",
              "    </tr>\n",
              "    <tr>\n",
              "      <th>232</th>\n",
              "      <td>10</td>\n",
              "      <td>15</td>\n",
              "      <td>233</td>\n",
              "      <td>The One Where Estelle Dies</td>\n",
              "      <td>Gary Halvorson</td>\n",
              "      <td>Story by: Mark KunerthTeleplay by: David Crane...</td>\n",
              "      <td>2004-04-22</td>\n",
              "      <td>176264</td>\n",
              "      <td>22640000.0</td>\n",
              "    </tr>\n",
              "    <tr>\n",
              "      <th>233</th>\n",
              "      <td>10</td>\n",
              "      <td>16</td>\n",
              "      <td>234</td>\n",
              "      <td>The One with Rachel's Going Away Party</td>\n",
              "      <td>Gary Halvorson</td>\n",
              "      <td>Andrew Reich &amp; Ted Cohen</td>\n",
              "      <td>2004-04-29</td>\n",
              "      <td>176265</td>\n",
              "      <td>24510000.0</td>\n",
              "    </tr>\n",
              "    <tr>\n",
              "      <th>234</th>\n",
              "      <td>10</td>\n",
              "      <td>17</td>\n",
              "      <td>235</td>\n",
              "      <td>The Last One</td>\n",
              "      <td>Kevin S. Bright</td>\n",
              "      <td>Marta Kauffman &amp; David Crane</td>\n",
              "      <td>2004-05-06</td>\n",
              "      <td>176266</td>\n",
              "      <td>52460000.0</td>\n",
              "    </tr>\n",
              "  </tbody>\n",
              "</table>\n",
              "</div>\n",
              "      <button class=\"colab-df-convert\" onclick=\"convertToInteractive('df-036e7090-5012-4a2b-8a92-f009e79da1b0')\"\n",
              "              title=\"Convert this dataframe to an interactive table.\"\n",
              "              style=\"display:none;\">\n",
              "        \n",
              "  <svg xmlns=\"http://www.w3.org/2000/svg\" height=\"24px\"viewBox=\"0 0 24 24\"\n",
              "       width=\"24px\">\n",
              "    <path d=\"M0 0h24v24H0V0z\" fill=\"none\"/>\n",
              "    <path d=\"M18.56 5.44l.94 2.06.94-2.06 2.06-.94-2.06-.94-.94-2.06-.94 2.06-2.06.94zm-11 1L8.5 8.5l.94-2.06 2.06-.94-2.06-.94L8.5 2.5l-.94 2.06-2.06.94zm10 10l.94 2.06.94-2.06 2.06-.94-2.06-.94-.94-2.06-.94 2.06-2.06.94z\"/><path d=\"M17.41 7.96l-1.37-1.37c-.4-.4-.92-.59-1.43-.59-.52 0-1.04.2-1.43.59L10.3 9.45l-7.72 7.72c-.78.78-.78 2.05 0 2.83L4 21.41c.39.39.9.59 1.41.59.51 0 1.02-.2 1.41-.59l7.78-7.78 2.81-2.81c.8-.78.8-2.07 0-2.86zM5.41 20L4 18.59l7.72-7.72 1.47 1.35L5.41 20z\"/>\n",
              "  </svg>\n",
              "      </button>\n",
              "      \n",
              "  <style>\n",
              "    .colab-df-container {\n",
              "      display:flex;\n",
              "      flex-wrap:wrap;\n",
              "      gap: 12px;\n",
              "    }\n",
              "\n",
              "    .colab-df-convert {\n",
              "      background-color: #E8F0FE;\n",
              "      border: none;\n",
              "      border-radius: 50%;\n",
              "      cursor: pointer;\n",
              "      display: none;\n",
              "      fill: #1967D2;\n",
              "      height: 32px;\n",
              "      padding: 0 0 0 0;\n",
              "      width: 32px;\n",
              "    }\n",
              "\n",
              "    .colab-df-convert:hover {\n",
              "      background-color: #E2EBFA;\n",
              "      box-shadow: 0px 1px 2px rgba(60, 64, 67, 0.3), 0px 1px 3px 1px rgba(60, 64, 67, 0.15);\n",
              "      fill: #174EA6;\n",
              "    }\n",
              "\n",
              "    [theme=dark] .colab-df-convert {\n",
              "      background-color: #3B4455;\n",
              "      fill: #D2E3FC;\n",
              "    }\n",
              "\n",
              "    [theme=dark] .colab-df-convert:hover {\n",
              "      background-color: #434B5C;\n",
              "      box-shadow: 0px 1px 3px 1px rgba(0, 0, 0, 0.15);\n",
              "      filter: drop-shadow(0px 1px 2px rgba(0, 0, 0, 0.3));\n",
              "      fill: #FFFFFF;\n",
              "    }\n",
              "  </style>\n",
              "\n",
              "      <script>\n",
              "        const buttonEl =\n",
              "          document.querySelector('#df-036e7090-5012-4a2b-8a92-f009e79da1b0 button.colab-df-convert');\n",
              "        buttonEl.style.display =\n",
              "          google.colab.kernel.accessAllowed ? 'block' : 'none';\n",
              "\n",
              "        async function convertToInteractive(key) {\n",
              "          const element = document.querySelector('#df-036e7090-5012-4a2b-8a92-f009e79da1b0');\n",
              "          const dataTable =\n",
              "            await google.colab.kernel.invokeFunction('convertToInteractive',\n",
              "                                                     [key], {});\n",
              "          if (!dataTable) return;\n",
              "\n",
              "          const docLinkHtml = 'Like what you see? Visit the ' +\n",
              "            '<a target=\"_blank\" href=https://colab.research.google.com/notebooks/data_table.ipynb>data table notebook</a>'\n",
              "            + ' to learn more about interactive tables.';\n",
              "          element.innerHTML = '';\n",
              "          dataTable['output_type'] = 'display_data';\n",
              "          await google.colab.output.renderOutput(dataTable, element);\n",
              "          const docLink = document.createElement('div');\n",
              "          docLink.innerHTML = docLinkHtml;\n",
              "          element.appendChild(docLink);\n",
              "        }\n",
              "      </script>\n",
              "    </div>\n",
              "  </div>\n",
              "  "
            ],
            "text/plain": [
              "     season  episode_num_in_season  ...  prod_code  us_viewers\n",
              "230      10                     13  ...     176261  24270000.0\n",
              "231      10                     14  ...     176263  22820000.0\n",
              "232      10                     15  ...     176264  22640000.0\n",
              "233      10                     16  ...     176265  24510000.0\n",
              "234      10                     17  ...     176266  52460000.0\n",
              "\n",
              "[5 rows x 9 columns]"
            ]
          },
          "metadata": {},
          "execution_count": 11
        }
      ],
      "source": [
        "#Removing last entry of df_episodes\n",
        "df_episodes = df_episodes[df_episodes[\"episode_num_overall\"]!=236]\n",
        "df_episodes.tail()\n"
      ]
    },
    {
      "cell_type": "code",
      "execution_count": 12,
      "metadata": {
        "colab": {
          "base_uri": "https://localhost:8080/",
          "height": 300
        },
        "id": "A43LKRy__xcH",
        "outputId": "9df28f52-8d65-435a-eaa8-cadc72611a05"
      },
      "outputs": [
        {
          "output_type": "execute_result",
          "data": {
            "text/html": [
              "\n",
              "  <div id=\"df-8aa36523-c798-4b2f-b389-23cb2254df9f\">\n",
              "    <div class=\"colab-df-container\">\n",
              "      <div>\n",
              "<style scoped>\n",
              "    .dataframe tbody tr th:only-of-type {\n",
              "        vertical-align: middle;\n",
              "    }\n",
              "\n",
              "    .dataframe tbody tr th {\n",
              "        vertical-align: top;\n",
              "    }\n",
              "\n",
              "    .dataframe thead th {\n",
              "        text-align: right;\n",
              "    }\n",
              "</style>\n",
              "<table border=\"1\" class=\"dataframe\">\n",
              "  <thead>\n",
              "    <tr style=\"text-align: right;\">\n",
              "      <th></th>\n",
              "      <th>season</th>\n",
              "      <th>episode_num_in_season</th>\n",
              "      <th>episode_num_overall</th>\n",
              "      <th>us_viewers</th>\n",
              "    </tr>\n",
              "  </thead>\n",
              "  <tbody>\n",
              "    <tr>\n",
              "      <th>count</th>\n",
              "      <td>235.000000</td>\n",
              "      <td>235.000000</td>\n",
              "      <td>235.000000</td>\n",
              "      <td>2.350000e+02</td>\n",
              "    </tr>\n",
              "    <tr>\n",
              "      <th>mean</th>\n",
              "      <td>5.357447</td>\n",
              "      <td>12.353191</td>\n",
              "      <td>117.897872</td>\n",
              "      <td>2.527562e+07</td>\n",
              "    </tr>\n",
              "    <tr>\n",
              "      <th>std</th>\n",
              "      <td>2.804129</td>\n",
              "      <td>6.941048</td>\n",
              "      <td>68.122927</td>\n",
              "      <td>4.911925e+06</td>\n",
              "    </tr>\n",
              "    <tr>\n",
              "      <th>min</th>\n",
              "      <td>1.000000</td>\n",
              "      <td>1.000000</td>\n",
              "      <td>1.000000</td>\n",
              "      <td>1.565000e+07</td>\n",
              "    </tr>\n",
              "    <tr>\n",
              "      <th>25%</th>\n",
              "      <td>3.000000</td>\n",
              "      <td>6.000000</td>\n",
              "      <td>59.500000</td>\n",
              "      <td>2.235000e+07</td>\n",
              "    </tr>\n",
              "    <tr>\n",
              "      <th>50%</th>\n",
              "      <td>5.000000</td>\n",
              "      <td>12.000000</td>\n",
              "      <td>118.000000</td>\n",
              "      <td>2.448000e+07</td>\n",
              "    </tr>\n",
              "    <tr>\n",
              "      <th>75%</th>\n",
              "      <td>8.000000</td>\n",
              "      <td>18.000000</td>\n",
              "      <td>176.500000</td>\n",
              "      <td>2.761000e+07</td>\n",
              "    </tr>\n",
              "    <tr>\n",
              "      <th>max</th>\n",
              "      <td>10.000000</td>\n",
              "      <td>25.000000</td>\n",
              "      <td>235.000000</td>\n",
              "      <td>5.290000e+07</td>\n",
              "    </tr>\n",
              "  </tbody>\n",
              "</table>\n",
              "</div>\n",
              "      <button class=\"colab-df-convert\" onclick=\"convertToInteractive('df-8aa36523-c798-4b2f-b389-23cb2254df9f')\"\n",
              "              title=\"Convert this dataframe to an interactive table.\"\n",
              "              style=\"display:none;\">\n",
              "        \n",
              "  <svg xmlns=\"http://www.w3.org/2000/svg\" height=\"24px\"viewBox=\"0 0 24 24\"\n",
              "       width=\"24px\">\n",
              "    <path d=\"M0 0h24v24H0V0z\" fill=\"none\"/>\n",
              "    <path d=\"M18.56 5.44l.94 2.06.94-2.06 2.06-.94-2.06-.94-.94-2.06-.94 2.06-2.06.94zm-11 1L8.5 8.5l.94-2.06 2.06-.94-2.06-.94L8.5 2.5l-.94 2.06-2.06.94zm10 10l.94 2.06.94-2.06 2.06-.94-2.06-.94-.94-2.06-.94 2.06-2.06.94z\"/><path d=\"M17.41 7.96l-1.37-1.37c-.4-.4-.92-.59-1.43-.59-.52 0-1.04.2-1.43.59L10.3 9.45l-7.72 7.72c-.78.78-.78 2.05 0 2.83L4 21.41c.39.39.9.59 1.41.59.51 0 1.02-.2 1.41-.59l7.78-7.78 2.81-2.81c.8-.78.8-2.07 0-2.86zM5.41 20L4 18.59l7.72-7.72 1.47 1.35L5.41 20z\"/>\n",
              "  </svg>\n",
              "      </button>\n",
              "      \n",
              "  <style>\n",
              "    .colab-df-container {\n",
              "      display:flex;\n",
              "      flex-wrap:wrap;\n",
              "      gap: 12px;\n",
              "    }\n",
              "\n",
              "    .colab-df-convert {\n",
              "      background-color: #E8F0FE;\n",
              "      border: none;\n",
              "      border-radius: 50%;\n",
              "      cursor: pointer;\n",
              "      display: none;\n",
              "      fill: #1967D2;\n",
              "      height: 32px;\n",
              "      padding: 0 0 0 0;\n",
              "      width: 32px;\n",
              "    }\n",
              "\n",
              "    .colab-df-convert:hover {\n",
              "      background-color: #E2EBFA;\n",
              "      box-shadow: 0px 1px 2px rgba(60, 64, 67, 0.3), 0px 1px 3px 1px rgba(60, 64, 67, 0.15);\n",
              "      fill: #174EA6;\n",
              "    }\n",
              "\n",
              "    [theme=dark] .colab-df-convert {\n",
              "      background-color: #3B4455;\n",
              "      fill: #D2E3FC;\n",
              "    }\n",
              "\n",
              "    [theme=dark] .colab-df-convert:hover {\n",
              "      background-color: #434B5C;\n",
              "      box-shadow: 0px 1px 3px 1px rgba(0, 0, 0, 0.15);\n",
              "      filter: drop-shadow(0px 1px 2px rgba(0, 0, 0, 0.3));\n",
              "      fill: #FFFFFF;\n",
              "    }\n",
              "  </style>\n",
              "\n",
              "      <script>\n",
              "        const buttonEl =\n",
              "          document.querySelector('#df-8aa36523-c798-4b2f-b389-23cb2254df9f button.colab-df-convert');\n",
              "        buttonEl.style.display =\n",
              "          google.colab.kernel.accessAllowed ? 'block' : 'none';\n",
              "\n",
              "        async function convertToInteractive(key) {\n",
              "          const element = document.querySelector('#df-8aa36523-c798-4b2f-b389-23cb2254df9f');\n",
              "          const dataTable =\n",
              "            await google.colab.kernel.invokeFunction('convertToInteractive',\n",
              "                                                     [key], {});\n",
              "          if (!dataTable) return;\n",
              "\n",
              "          const docLinkHtml = 'Like what you see? Visit the ' +\n",
              "            '<a target=\"_blank\" href=https://colab.research.google.com/notebooks/data_table.ipynb>data table notebook</a>'\n",
              "            + ' to learn more about interactive tables.';\n",
              "          element.innerHTML = '';\n",
              "          dataTable['output_type'] = 'display_data';\n",
              "          await google.colab.output.renderOutput(dataTable, element);\n",
              "          const docLink = document.createElement('div');\n",
              "          docLink.innerHTML = docLinkHtml;\n",
              "          element.appendChild(docLink);\n",
              "        }\n",
              "      </script>\n",
              "    </div>\n",
              "  </div>\n",
              "  "
            ],
            "text/plain": [
              "           season  episode_num_in_season  episode_num_overall    us_viewers\n",
              "count  235.000000             235.000000           235.000000  2.350000e+02\n",
              "mean     5.357447              12.353191           117.897872  2.527562e+07\n",
              "std      2.804129               6.941048            68.122927  4.911925e+06\n",
              "min      1.000000               1.000000             1.000000  1.565000e+07\n",
              "25%      3.000000               6.000000            59.500000  2.235000e+07\n",
              "50%      5.000000              12.000000           118.000000  2.448000e+07\n",
              "75%      8.000000              18.000000           176.500000  2.761000e+07\n",
              "max     10.000000              25.000000           235.000000  5.290000e+07"
            ]
          },
          "metadata": {},
          "execution_count": 12
        }
      ],
      "source": [
        "df_episodes.describe()"
      ]
    },
    {
      "cell_type": "markdown",
      "source": [
        "The maximum number of us_viewers was almost 2 times that of the 75th percentile."
      ],
      "metadata": {
        "id": "8XioMqkATRqN"
      }
    },
    {
      "cell_type": "code",
      "execution_count": 13,
      "metadata": {
        "colab": {
          "base_uri": "https://localhost:8080/",
          "height": 300
        },
        "id": "wTB8yBOb_5uX",
        "outputId": "1010ee74-4c5b-4de7-92c4-e0ec2d25e927"
      },
      "outputs": [
        {
          "output_type": "execute_result",
          "data": {
            "text/html": [
              "\n",
              "  <div id=\"df-c4cddd43-7be3-4d58-9a50-df319e8bee82\">\n",
              "    <div class=\"colab-df-container\">\n",
              "      <div>\n",
              "<style scoped>\n",
              "    .dataframe tbody tr th:only-of-type {\n",
              "        vertical-align: middle;\n",
              "    }\n",
              "\n",
              "    .dataframe tbody tr th {\n",
              "        vertical-align: top;\n",
              "    }\n",
              "\n",
              "    .dataframe thead th {\n",
              "        text-align: right;\n",
              "    }\n",
              "</style>\n",
              "<table border=\"1\" class=\"dataframe\">\n",
              "  <thead>\n",
              "    <tr style=\"text-align: right;\">\n",
              "      <th></th>\n",
              "      <th>season</th>\n",
              "      <th>episode_num</th>\n",
              "      <th>imdb_rating</th>\n",
              "      <th>total_votes</th>\n",
              "    </tr>\n",
              "  </thead>\n",
              "  <tbody>\n",
              "    <tr>\n",
              "      <th>count</th>\n",
              "      <td>235.000000</td>\n",
              "      <td>235.000000</td>\n",
              "      <td>235.000000</td>\n",
              "      <td>235.000000</td>\n",
              "    </tr>\n",
              "    <tr>\n",
              "      <th>mean</th>\n",
              "      <td>5.357447</td>\n",
              "      <td>12.353191</td>\n",
              "      <td>8.422553</td>\n",
              "      <td>4439.387234</td>\n",
              "    </tr>\n",
              "    <tr>\n",
              "      <th>std</th>\n",
              "      <td>2.804129</td>\n",
              "      <td>6.941048</td>\n",
              "      <td>0.410183</td>\n",
              "      <td>1081.935073</td>\n",
              "    </tr>\n",
              "    <tr>\n",
              "      <th>min</th>\n",
              "      <td>1.000000</td>\n",
              "      <td>1.000000</td>\n",
              "      <td>7.100000</td>\n",
              "      <td>3427.000000</td>\n",
              "    </tr>\n",
              "    <tr>\n",
              "      <th>25%</th>\n",
              "      <td>3.000000</td>\n",
              "      <td>6.000000</td>\n",
              "      <td>8.100000</td>\n",
              "      <td>3832.500000</td>\n",
              "    </tr>\n",
              "    <tr>\n",
              "      <th>50%</th>\n",
              "      <td>5.000000</td>\n",
              "      <td>12.000000</td>\n",
              "      <td>8.400000</td>\n",
              "      <td>4168.000000</td>\n",
              "    </tr>\n",
              "    <tr>\n",
              "      <th>75%</th>\n",
              "      <td>8.000000</td>\n",
              "      <td>18.000000</td>\n",
              "      <td>8.700000</td>\n",
              "      <td>4719.000000</td>\n",
              "    </tr>\n",
              "    <tr>\n",
              "      <th>max</th>\n",
              "      <td>10.000000</td>\n",
              "      <td>25.000000</td>\n",
              "      <td>9.700000</td>\n",
              "      <td>14033.000000</td>\n",
              "    </tr>\n",
              "  </tbody>\n",
              "</table>\n",
              "</div>\n",
              "      <button class=\"colab-df-convert\" onclick=\"convertToInteractive('df-c4cddd43-7be3-4d58-9a50-df319e8bee82')\"\n",
              "              title=\"Convert this dataframe to an interactive table.\"\n",
              "              style=\"display:none;\">\n",
              "        \n",
              "  <svg xmlns=\"http://www.w3.org/2000/svg\" height=\"24px\"viewBox=\"0 0 24 24\"\n",
              "       width=\"24px\">\n",
              "    <path d=\"M0 0h24v24H0V0z\" fill=\"none\"/>\n",
              "    <path d=\"M18.56 5.44l.94 2.06.94-2.06 2.06-.94-2.06-.94-.94-2.06-.94 2.06-2.06.94zm-11 1L8.5 8.5l.94-2.06 2.06-.94-2.06-.94L8.5 2.5l-.94 2.06-2.06.94zm10 10l.94 2.06.94-2.06 2.06-.94-2.06-.94-.94-2.06-.94 2.06-2.06.94z\"/><path d=\"M17.41 7.96l-1.37-1.37c-.4-.4-.92-.59-1.43-.59-.52 0-1.04.2-1.43.59L10.3 9.45l-7.72 7.72c-.78.78-.78 2.05 0 2.83L4 21.41c.39.39.9.59 1.41.59.51 0 1.02-.2 1.41-.59l7.78-7.78 2.81-2.81c.8-.78.8-2.07 0-2.86zM5.41 20L4 18.59l7.72-7.72 1.47 1.35L5.41 20z\"/>\n",
              "  </svg>\n",
              "      </button>\n",
              "      \n",
              "  <style>\n",
              "    .colab-df-container {\n",
              "      display:flex;\n",
              "      flex-wrap:wrap;\n",
              "      gap: 12px;\n",
              "    }\n",
              "\n",
              "    .colab-df-convert {\n",
              "      background-color: #E8F0FE;\n",
              "      border: none;\n",
              "      border-radius: 50%;\n",
              "      cursor: pointer;\n",
              "      display: none;\n",
              "      fill: #1967D2;\n",
              "      height: 32px;\n",
              "      padding: 0 0 0 0;\n",
              "      width: 32px;\n",
              "    }\n",
              "\n",
              "    .colab-df-convert:hover {\n",
              "      background-color: #E2EBFA;\n",
              "      box-shadow: 0px 1px 2px rgba(60, 64, 67, 0.3), 0px 1px 3px 1px rgba(60, 64, 67, 0.15);\n",
              "      fill: #174EA6;\n",
              "    }\n",
              "\n",
              "    [theme=dark] .colab-df-convert {\n",
              "      background-color: #3B4455;\n",
              "      fill: #D2E3FC;\n",
              "    }\n",
              "\n",
              "    [theme=dark] .colab-df-convert:hover {\n",
              "      background-color: #434B5C;\n",
              "      box-shadow: 0px 1px 3px 1px rgba(0, 0, 0, 0.15);\n",
              "      filter: drop-shadow(0px 1px 2px rgba(0, 0, 0, 0.3));\n",
              "      fill: #FFFFFF;\n",
              "    }\n",
              "  </style>\n",
              "\n",
              "      <script>\n",
              "        const buttonEl =\n",
              "          document.querySelector('#df-c4cddd43-7be3-4d58-9a50-df319e8bee82 button.colab-df-convert');\n",
              "        buttonEl.style.display =\n",
              "          google.colab.kernel.accessAllowed ? 'block' : 'none';\n",
              "\n",
              "        async function convertToInteractive(key) {\n",
              "          const element = document.querySelector('#df-c4cddd43-7be3-4d58-9a50-df319e8bee82');\n",
              "          const dataTable =\n",
              "            await google.colab.kernel.invokeFunction('convertToInteractive',\n",
              "                                                     [key], {});\n",
              "          if (!dataTable) return;\n",
              "\n",
              "          const docLinkHtml = 'Like what you see? Visit the ' +\n",
              "            '<a target=\"_blank\" href=https://colab.research.google.com/notebooks/data_table.ipynb>data table notebook</a>'\n",
              "            + ' to learn more about interactive tables.';\n",
              "          element.innerHTML = '';\n",
              "          dataTable['output_type'] = 'display_data';\n",
              "          await google.colab.output.renderOutput(dataTable, element);\n",
              "          const docLink = document.createElement('div');\n",
              "          docLink.innerHTML = docLinkHtml;\n",
              "          element.appendChild(docLink);\n",
              "        }\n",
              "      </script>\n",
              "    </div>\n",
              "  </div>\n",
              "  "
            ],
            "text/plain": [
              "           season  episode_num  imdb_rating   total_votes\n",
              "count  235.000000   235.000000   235.000000    235.000000\n",
              "mean     5.357447    12.353191     8.422553   4439.387234\n",
              "std      2.804129     6.941048     0.410183   1081.935073\n",
              "min      1.000000     1.000000     7.100000   3427.000000\n",
              "25%      3.000000     6.000000     8.100000   3832.500000\n",
              "50%      5.000000    12.000000     8.400000   4168.000000\n",
              "75%      8.000000    18.000000     8.700000   4719.000000\n",
              "max     10.000000    25.000000     9.700000  14033.000000"
            ]
          },
          "metadata": {},
          "execution_count": 13
        }
      ],
      "source": [
        "df_imdb.describe()"
      ]
    },
    {
      "cell_type": "markdown",
      "source": [
        "The maximum total_votes was nearly 3 times that of the 75th percentile."
      ],
      "metadata": {
        "id": "zxUCxV47TZcR"
      }
    },
    {
      "cell_type": "code",
      "execution_count": 14,
      "metadata": {
        "colab": {
          "base_uri": "https://localhost:8080/"
        },
        "id": "6N9ZOFysAKpF",
        "outputId": "4e15c73c-9d6e-4bf2-9b3d-f3c40873643f"
      },
      "outputs": [
        {
          "output_type": "execute_result",
          "data": {
            "text/plain": [
              "13     2\n",
              "1      1\n",
              "163    1\n",
              "151    1\n",
              "152    1\n",
              "      ..\n",
              "85     1\n",
              "86     1\n",
              "87     1\n",
              "88     1\n",
              "235    1\n",
              "Name: episode_num_overall, Length: 234, dtype: int64"
            ]
          },
          "metadata": {},
          "execution_count": 14
        }
      ],
      "source": [
        "df_episodes[\"episode_num_overall\"].value_counts()"
      ]
    },
    {
      "cell_type": "markdown",
      "source": [
        "It can be seen here that there might be a duplicate episode number."
      ],
      "metadata": {
        "id": "TuQG4QTHTjK7"
      }
    },
    {
      "cell_type": "code",
      "execution_count": 15,
      "metadata": {
        "colab": {
          "base_uri": "https://localhost:8080/",
          "height": 173
        },
        "id": "LxG85njfDMV5",
        "outputId": "00da2f06-c865-42c9-d507-ce92bc7d94a1"
      },
      "outputs": [
        {
          "output_type": "execute_result",
          "data": {
            "text/html": [
              "\n",
              "  <div id=\"df-5339e058-be71-4ea0-bf60-a0cab143f8b8\">\n",
              "    <div class=\"colab-df-container\">\n",
              "      <div>\n",
              "<style scoped>\n",
              "    .dataframe tbody tr th:only-of-type {\n",
              "        vertical-align: middle;\n",
              "    }\n",
              "\n",
              "    .dataframe tbody tr th {\n",
              "        vertical-align: top;\n",
              "    }\n",
              "\n",
              "    .dataframe thead th {\n",
              "        text-align: right;\n",
              "    }\n",
              "</style>\n",
              "<table border=\"1\" class=\"dataframe\">\n",
              "  <thead>\n",
              "    <tr style=\"text-align: right;\">\n",
              "      <th></th>\n",
              "      <th>season</th>\n",
              "      <th>episode_num_in_season</th>\n",
              "      <th>episode_num_overall</th>\n",
              "      <th>title</th>\n",
              "      <th>directed_by</th>\n",
              "      <th>written_by</th>\n",
              "      <th>original_air_date</th>\n",
              "      <th>prod_code</th>\n",
              "      <th>us_viewers</th>\n",
              "    </tr>\n",
              "  </thead>\n",
              "  <tbody>\n",
              "    <tr>\n",
              "      <th>12</th>\n",
              "      <td>1</td>\n",
              "      <td>13</td>\n",
              "      <td>13</td>\n",
              "      <td>The One with the Boobies</td>\n",
              "      <td>Alan Myerson</td>\n",
              "      <td>Alexa Junge</td>\n",
              "      <td>1995-01-19</td>\n",
              "      <td>456664</td>\n",
              "      <td>25800000.0</td>\n",
              "    </tr>\n",
              "    <tr>\n",
              "      <th>36</th>\n",
              "      <td>2</td>\n",
              "      <td>13</td>\n",
              "      <td>13</td>\n",
              "      <td>The One After the Superbowl: Part 2</td>\n",
              "      <td>Michael Lembeck</td>\n",
              "      <td>Michael Borkow</td>\n",
              "      <td>1996-01-28</td>\n",
              "      <td>457314</td>\n",
              "      <td>52900000.0</td>\n",
              "    </tr>\n",
              "  </tbody>\n",
              "</table>\n",
              "</div>\n",
              "      <button class=\"colab-df-convert\" onclick=\"convertToInteractive('df-5339e058-be71-4ea0-bf60-a0cab143f8b8')\"\n",
              "              title=\"Convert this dataframe to an interactive table.\"\n",
              "              style=\"display:none;\">\n",
              "        \n",
              "  <svg xmlns=\"http://www.w3.org/2000/svg\" height=\"24px\"viewBox=\"0 0 24 24\"\n",
              "       width=\"24px\">\n",
              "    <path d=\"M0 0h24v24H0V0z\" fill=\"none\"/>\n",
              "    <path d=\"M18.56 5.44l.94 2.06.94-2.06 2.06-.94-2.06-.94-.94-2.06-.94 2.06-2.06.94zm-11 1L8.5 8.5l.94-2.06 2.06-.94-2.06-.94L8.5 2.5l-.94 2.06-2.06.94zm10 10l.94 2.06.94-2.06 2.06-.94-2.06-.94-.94-2.06-.94 2.06-2.06.94z\"/><path d=\"M17.41 7.96l-1.37-1.37c-.4-.4-.92-.59-1.43-.59-.52 0-1.04.2-1.43.59L10.3 9.45l-7.72 7.72c-.78.78-.78 2.05 0 2.83L4 21.41c.39.39.9.59 1.41.59.51 0 1.02-.2 1.41-.59l7.78-7.78 2.81-2.81c.8-.78.8-2.07 0-2.86zM5.41 20L4 18.59l7.72-7.72 1.47 1.35L5.41 20z\"/>\n",
              "  </svg>\n",
              "      </button>\n",
              "      \n",
              "  <style>\n",
              "    .colab-df-container {\n",
              "      display:flex;\n",
              "      flex-wrap:wrap;\n",
              "      gap: 12px;\n",
              "    }\n",
              "\n",
              "    .colab-df-convert {\n",
              "      background-color: #E8F0FE;\n",
              "      border: none;\n",
              "      border-radius: 50%;\n",
              "      cursor: pointer;\n",
              "      display: none;\n",
              "      fill: #1967D2;\n",
              "      height: 32px;\n",
              "      padding: 0 0 0 0;\n",
              "      width: 32px;\n",
              "    }\n",
              "\n",
              "    .colab-df-convert:hover {\n",
              "      background-color: #E2EBFA;\n",
              "      box-shadow: 0px 1px 2px rgba(60, 64, 67, 0.3), 0px 1px 3px 1px rgba(60, 64, 67, 0.15);\n",
              "      fill: #174EA6;\n",
              "    }\n",
              "\n",
              "    [theme=dark] .colab-df-convert {\n",
              "      background-color: #3B4455;\n",
              "      fill: #D2E3FC;\n",
              "    }\n",
              "\n",
              "    [theme=dark] .colab-df-convert:hover {\n",
              "      background-color: #434B5C;\n",
              "      box-shadow: 0px 1px 3px 1px rgba(0, 0, 0, 0.15);\n",
              "      filter: drop-shadow(0px 1px 2px rgba(0, 0, 0, 0.3));\n",
              "      fill: #FFFFFF;\n",
              "    }\n",
              "  </style>\n",
              "\n",
              "      <script>\n",
              "        const buttonEl =\n",
              "          document.querySelector('#df-5339e058-be71-4ea0-bf60-a0cab143f8b8 button.colab-df-convert');\n",
              "        buttonEl.style.display =\n",
              "          google.colab.kernel.accessAllowed ? 'block' : 'none';\n",
              "\n",
              "        async function convertToInteractive(key) {\n",
              "          const element = document.querySelector('#df-5339e058-be71-4ea0-bf60-a0cab143f8b8');\n",
              "          const dataTable =\n",
              "            await google.colab.kernel.invokeFunction('convertToInteractive',\n",
              "                                                     [key], {});\n",
              "          if (!dataTable) return;\n",
              "\n",
              "          const docLinkHtml = 'Like what you see? Visit the ' +\n",
              "            '<a target=\"_blank\" href=https://colab.research.google.com/notebooks/data_table.ipynb>data table notebook</a>'\n",
              "            + ' to learn more about interactive tables.';\n",
              "          element.innerHTML = '';\n",
              "          dataTable['output_type'] = 'display_data';\n",
              "          await google.colab.output.renderOutput(dataTable, element);\n",
              "          const docLink = document.createElement('div');\n",
              "          docLink.innerHTML = docLinkHtml;\n",
              "          element.appendChild(docLink);\n",
              "        }\n",
              "      </script>\n",
              "    </div>\n",
              "  </div>\n",
              "  "
            ],
            "text/plain": [
              "    season  episode_num_in_season  ...  prod_code  us_viewers\n",
              "12       1                     13  ...     456664  25800000.0\n",
              "36       2                     13  ...     457314  52900000.0\n",
              "\n",
              "[2 rows x 9 columns]"
            ]
          },
          "metadata": {},
          "execution_count": 15
        }
      ],
      "source": [
        "#Searching for Duplicate\n",
        "df_episodes[df_episodes[\"episode_num_overall\"]==13]"
      ]
    },
    {
      "cell_type": "markdown",
      "source": [
        "Upon further investigation, the episode_num_overall was labelled wrongly for row 36. The episode_num_overall should be 37 rather than 13, and is corrected in the code below."
      ],
      "metadata": {
        "id": "otI2jUdgTpbJ"
      }
    },
    {
      "cell_type": "code",
      "execution_count": 16,
      "metadata": {
        "colab": {
          "base_uri": "https://localhost:8080/",
          "height": 185
        },
        "id": "K6Zb53CSFujK",
        "outputId": "11dee0ef-8a49-4a8f-9c60-034ba2718582"
      },
      "outputs": [
        {
          "output_type": "stream",
          "name": "stderr",
          "text": [
            "/usr/local/lib/python3.7/dist-packages/pandas/core/indexing.py:1817: SettingWithCopyWarning: \n",
            "A value is trying to be set on a copy of a slice from a DataFrame.\n",
            "Try using .loc[row_indexer,col_indexer] = value instead\n",
            "\n",
            "See the caveats in the documentation: https://pandas.pydata.org/pandas-docs/stable/user_guide/indexing.html#returning-a-view-versus-a-copy\n",
            "  self._setitem_single_column(loc, value, pi)\n"
          ]
        },
        {
          "output_type": "execute_result",
          "data": {
            "text/html": [
              "\n",
              "  <div id=\"df-83679ba0-3cce-40a5-8047-50cac93e636f\">\n",
              "    <div class=\"colab-df-container\">\n",
              "      <div>\n",
              "<style scoped>\n",
              "    .dataframe tbody tr th:only-of-type {\n",
              "        vertical-align: middle;\n",
              "    }\n",
              "\n",
              "    .dataframe tbody tr th {\n",
              "        vertical-align: top;\n",
              "    }\n",
              "\n",
              "    .dataframe thead th {\n",
              "        text-align: right;\n",
              "    }\n",
              "</style>\n",
              "<table border=\"1\" class=\"dataframe\">\n",
              "  <thead>\n",
              "    <tr style=\"text-align: right;\">\n",
              "      <th></th>\n",
              "      <th>season</th>\n",
              "      <th>episode_num_in_season</th>\n",
              "      <th>episode_num_overall</th>\n",
              "      <th>title</th>\n",
              "      <th>directed_by</th>\n",
              "      <th>written_by</th>\n",
              "      <th>original_air_date</th>\n",
              "      <th>prod_code</th>\n",
              "      <th>us_viewers</th>\n",
              "    </tr>\n",
              "  </thead>\n",
              "  <tbody>\n",
              "    <tr>\n",
              "      <th>12</th>\n",
              "      <td>1</td>\n",
              "      <td>13</td>\n",
              "      <td>13</td>\n",
              "      <td>The One with the Boobies</td>\n",
              "      <td>Alan Myerson</td>\n",
              "      <td>Alexa Junge</td>\n",
              "      <td>1995-01-19</td>\n",
              "      <td>456664</td>\n",
              "      <td>25800000.0</td>\n",
              "    </tr>\n",
              "  </tbody>\n",
              "</table>\n",
              "</div>\n",
              "      <button class=\"colab-df-convert\" onclick=\"convertToInteractive('df-83679ba0-3cce-40a5-8047-50cac93e636f')\"\n",
              "              title=\"Convert this dataframe to an interactive table.\"\n",
              "              style=\"display:none;\">\n",
              "        \n",
              "  <svg xmlns=\"http://www.w3.org/2000/svg\" height=\"24px\"viewBox=\"0 0 24 24\"\n",
              "       width=\"24px\">\n",
              "    <path d=\"M0 0h24v24H0V0z\" fill=\"none\"/>\n",
              "    <path d=\"M18.56 5.44l.94 2.06.94-2.06 2.06-.94-2.06-.94-.94-2.06-.94 2.06-2.06.94zm-11 1L8.5 8.5l.94-2.06 2.06-.94-2.06-.94L8.5 2.5l-.94 2.06-2.06.94zm10 10l.94 2.06.94-2.06 2.06-.94-2.06-.94-.94-2.06-.94 2.06-2.06.94z\"/><path d=\"M17.41 7.96l-1.37-1.37c-.4-.4-.92-.59-1.43-.59-.52 0-1.04.2-1.43.59L10.3 9.45l-7.72 7.72c-.78.78-.78 2.05 0 2.83L4 21.41c.39.39.9.59 1.41.59.51 0 1.02-.2 1.41-.59l7.78-7.78 2.81-2.81c.8-.78.8-2.07 0-2.86zM5.41 20L4 18.59l7.72-7.72 1.47 1.35L5.41 20z\"/>\n",
              "  </svg>\n",
              "      </button>\n",
              "      \n",
              "  <style>\n",
              "    .colab-df-container {\n",
              "      display:flex;\n",
              "      flex-wrap:wrap;\n",
              "      gap: 12px;\n",
              "    }\n",
              "\n",
              "    .colab-df-convert {\n",
              "      background-color: #E8F0FE;\n",
              "      border: none;\n",
              "      border-radius: 50%;\n",
              "      cursor: pointer;\n",
              "      display: none;\n",
              "      fill: #1967D2;\n",
              "      height: 32px;\n",
              "      padding: 0 0 0 0;\n",
              "      width: 32px;\n",
              "    }\n",
              "\n",
              "    .colab-df-convert:hover {\n",
              "      background-color: #E2EBFA;\n",
              "      box-shadow: 0px 1px 2px rgba(60, 64, 67, 0.3), 0px 1px 3px 1px rgba(60, 64, 67, 0.15);\n",
              "      fill: #174EA6;\n",
              "    }\n",
              "\n",
              "    [theme=dark] .colab-df-convert {\n",
              "      background-color: #3B4455;\n",
              "      fill: #D2E3FC;\n",
              "    }\n",
              "\n",
              "    [theme=dark] .colab-df-convert:hover {\n",
              "      background-color: #434B5C;\n",
              "      box-shadow: 0px 1px 3px 1px rgba(0, 0, 0, 0.15);\n",
              "      filter: drop-shadow(0px 1px 2px rgba(0, 0, 0, 0.3));\n",
              "      fill: #FFFFFF;\n",
              "    }\n",
              "  </style>\n",
              "\n",
              "      <script>\n",
              "        const buttonEl =\n",
              "          document.querySelector('#df-83679ba0-3cce-40a5-8047-50cac93e636f button.colab-df-convert');\n",
              "        buttonEl.style.display =\n",
              "          google.colab.kernel.accessAllowed ? 'block' : 'none';\n",
              "\n",
              "        async function convertToInteractive(key) {\n",
              "          const element = document.querySelector('#df-83679ba0-3cce-40a5-8047-50cac93e636f');\n",
              "          const dataTable =\n",
              "            await google.colab.kernel.invokeFunction('convertToInteractive',\n",
              "                                                     [key], {});\n",
              "          if (!dataTable) return;\n",
              "\n",
              "          const docLinkHtml = 'Like what you see? Visit the ' +\n",
              "            '<a target=\"_blank\" href=https://colab.research.google.com/notebooks/data_table.ipynb>data table notebook</a>'\n",
              "            + ' to learn more about interactive tables.';\n",
              "          element.innerHTML = '';\n",
              "          dataTable['output_type'] = 'display_data';\n",
              "          await google.colab.output.renderOutput(dataTable, element);\n",
              "          const docLink = document.createElement('div');\n",
              "          docLink.innerHTML = docLinkHtml;\n",
              "          element.appendChild(docLink);\n",
              "        }\n",
              "      </script>\n",
              "    </div>\n",
              "  </div>\n",
              "  "
            ],
            "text/plain": [
              "    season  episode_num_in_season  ...  prod_code  us_viewers\n",
              "12       1                     13  ...     456664  25800000.0\n",
              "\n",
              "[1 rows x 9 columns]"
            ]
          },
          "metadata": {},
          "execution_count": 16
        }
      ],
      "source": [
        "#Correcting Duplicate\n",
        "df_episodes.loc[36, \"episode_num_overall\"]=37\n",
        "#Checking if  Duplicate still exists\n",
        "df_episodes[df_episodes[\"episode_num_overall\"]==13]"
      ]
    },
    {
      "cell_type": "code",
      "execution_count": 17,
      "metadata": {
        "colab": {
          "base_uri": "https://localhost:8080/"
        },
        "id": "xEhe6UXVH9Zp",
        "outputId": "afb0ba67-bfec-4e81-a817-94fd609ca00d"
      },
      "outputs": [
        {
          "output_type": "execute_result",
          "data": {
            "text/plain": [
              "235"
            ]
          },
          "metadata": {},
          "execution_count": 17
        }
      ],
      "source": [
        "#Checking for duplicates in the title column for df_imdb\n",
        "len(pd.unique(df_imdb[\"title\"]))"
      ]
    },
    {
      "cell_type": "markdown",
      "source": [
        "There are no duplicate episodes in the df_imdb dataframe"
      ],
      "metadata": {
        "id": "rcaxLggeT06f"
      }
    },
    {
      "cell_type": "markdown",
      "metadata": {
        "id": "UKK9uJo9UPPB"
      },
      "source": [
        "## Visualisations"
      ]
    },
    {
      "cell_type": "markdown",
      "source": [
        "The Matplotlib library would be used here to generate visualisations from the data."
      ],
      "metadata": {
        "id": "q9Iw40y_eyJ7"
      }
    },
    {
      "cell_type": "markdown",
      "metadata": {
        "id": "uv70SY-yUcR4"
      },
      "source": [
        "### How has the popularity of Friends Changed with Each Episode?"
      ]
    },
    {
      "cell_type": "code",
      "execution_count": 18,
      "metadata": {
        "colab": {
          "base_uri": "https://localhost:8080/",
          "height": 411
        },
        "id": "rlalpz-bUT0t",
        "outputId": "9614f829-0753-4fdd-a769-9dbbedf71db1"
      },
      "outputs": [
        {
          "output_type": "execute_result",
          "data": {
            "text/plain": [
              "Text(222, 55000000.0, 'Season 10')"
            ]
          },
          "metadata": {},
          "execution_count": 18
        },
        {
          "output_type": "display_data",
          "data": {
            "image/png": "[encoded data removed]",
            "text/plain": [
              "<Figure size 1600x480 with 1 Axes>"
            ]
          },
          "metadata": {
            "needs_background": "light"
          }
        }
      ],
      "source": [
        "import matplotlib.pyplot as plt\n",
        "from matplotlib.pyplot import figure\n",
        "figure(figsize=(20,6), dpi=80)\n",
        "plt.plot(df_episodes[\"episode_num_overall\"], df_episodes[\"us_viewers\"])\n",
        "plt.xlim([1,236])\n",
        "plt.xlabel(\"Episode Number\")\n",
        "plt.ylabel(\"Number of Viewers in the US (in 10 Millions)\")\n",
        "\n",
        "## episode_num which are the start of a new season\n",
        "boundary = [25, 49, 74, 98, 122, 147, 171, 195, 219]\n",
        "\n",
        "for i in range(1,10):\n",
        "  #Plotting the dotted line and labelling the season numbers in between the dotted lines\n",
        "  plt.axvline(x=boundary[i-1], linestyle=\"dotted\")\n",
        "  plt.text(boundary[i-1]-18, 5.5*(10**7), \"Season \"+str(i))\n",
        "\n",
        "#Labelling \"Season 10\"\n",
        "plt.text(boundary[-1]+3, 5.5*(10**7), \"Season 10\")"
      ]
    },
    {
      "cell_type": "markdown",
      "source": [
        "It can be seen that Friends hit its peak viewership in Season 2 (\"The One After the SuperBowl: Part 1\") and the final episode. Viewership also dropped to an all time low in Season 7 (\"The One with the Vows\")."
      ],
      "metadata": {
        "id": "U8vVBIa8UCfs"
      }
    },
    {
      "cell_type": "markdown",
      "metadata": {
        "id": "xP9e_4mHVove"
      },
      "source": [
        "### How has the Show's IMDb Rating Changed with Each Episode?"
      ]
    },
    {
      "cell_type": "code",
      "execution_count": 19,
      "metadata": {
        "colab": {
          "base_uri": "https://localhost:8080/",
          "height": 405
        },
        "id": "wBzBVW1jV6NY",
        "outputId": "4ac83c02-2ca3-44f8-c14a-ba7339f259b4"
      },
      "outputs": [
        {
          "output_type": "execute_result",
          "data": {
            "text/plain": [
              "Text(222, 9.7, 'Season 10')"
            ]
          },
          "metadata": {},
          "execution_count": 19
        },
        {
          "output_type": "display_data",
          "data": {
            "image/png": "[encoded data removed]",
            "text/plain": [
              "<Figure size 1600x480 with 1 Axes>"
            ]
          },
          "metadata": {
            "needs_background": "light"
          }
        }
      ],
      "source": [
        "figure(figsize=(20,6), dpi=80)\n",
        "plt.plot(df_imdb[\"imdb_rating\"])\n",
        "plt.xlim([0,235])\n",
        "plt.ylim([0,10])\n",
        "plt.xlabel(\"Episode Number\")\n",
        "plt.ylabel(\"IMDb Rating (Out of 10)\")\n",
        "for i in range(1,10):\n",
        "  #df_IMDb is 0 indexed (i.e. episode 0 is the first episode, hence the need to -1)\n",
        "  plt.axvline(x=boundary[i-1]-1, linestyle=\"dotted\")\n",
        "  plt.text(boundary[i-1]-18, 9.7, \"Season \"+str(i))\n",
        "\n",
        "plt.text(boundary[-1]+3, 9.7, \"Season 10\")"
      ]
    },
    {
      "cell_type": "markdown",
      "source": [
        "For IMDb ratings, Friends achieved a peak in its final episode and in Season 5 (\"The One where Everyone Finds Out\"), and achieved a low in Season 4 (\"The One with the Invitation\")."
      ],
      "metadata": {
        "id": "7HJFAlycUa3k"
      }
    },
    {
      "cell_type": "markdown",
      "metadata": {
        "id": "81PA1hlWWV4C"
      },
      "source": [
        "### Are IMDb Ratings associated with Viewership?"
      ]
    },
    {
      "cell_type": "markdown",
      "source": [
        "Numpy library is used here to create a regression line."
      ],
      "metadata": {
        "id": "1kf0YPiBkgQK"
      }
    },
    {
      "cell_type": "code",
      "execution_count": 20,
      "metadata": {
        "id": "dCx2xAspWVZO",
        "colab": {
          "base_uri": "https://localhost:8080/",
          "height": 565
        },
        "outputId": "003c384b-e95c-4ce4-d201-acf260fd73bb"
      },
      "outputs": [
        {
          "output_type": "execute_result",
          "data": {
            "text/plain": [
              "0.32555721899832857"
            ]
          },
          "metadata": {},
          "execution_count": 20
        },
        {
          "output_type": "display_data",
          "data": {
            "image/png": "[encoded data removed]",
            "text/plain": [
              "<Figure size 640x640 with 1 Axes>"
            ]
          },
          "metadata": {
            "needs_background": "light"
          }
        }
      ],
      "source": [
        "figure(figsize=(8,8), dpi=80)\n",
        "plt.scatter(df_episodes[\"us_viewers\"], df_imdb[\"imdb_rating\"])\n",
        "plt.xlabel(\"Number of Viewers in the US (in 10 millions)\")\n",
        "plt.ylabel(\"IMDb Rating (Out of 10)\")\n",
        "import numpy as np\n",
        "from scipy.stats import pearsonr, f\n",
        "m, b = np.polyfit(df_episodes[\"us_viewers\"], df_imdb[\"imdb_rating\"], 1)\n",
        "plt.plot(df_episodes[\"us_viewers\"], m*df_episodes[\"us_viewers\"] + b, color=\"black\")\n",
        "pearsonr(df_episodes[\"us_viewers\"], df_imdb[\"imdb_rating\"])[0]\n",
        "\n"
      ]
    },
    {
      "cell_type": "markdown",
      "source": [
        "There seems to be moderate linear positive relationship between IMDb ratings and viewership in the US, as the Pearson Correlation constant is approximately 0.326"
      ],
      "metadata": {
        "id": "MW2pvDPRUnQk"
      }
    },
    {
      "cell_type": "code",
      "source": [
        "#Statistical Inference of Regression Line\n",
        "import statsmodels.api as sm\n",
        "Y = df_imdb[\"imdb_rating\"]\n",
        "X = df_episodes[\"us_viewers\"]\n",
        "X = sm.add_constant(X)\n",
        "model = sm.OLS(Y,X)\n",
        "results = model.fit()\n",
        "results.summary()"
      ],
      "metadata": {
        "colab": {
          "base_uri": "https://localhost:8080/",
          "height": 541
        },
        "id": "KKhFjS7lIQCa",
        "outputId": "82862fb5-4902-4627-d276-84013d1d6c44"
      },
      "execution_count": 29,
      "outputs": [
        {
          "output_type": "stream",
          "name": "stderr",
          "text": [
            "/usr/local/lib/python3.7/dist-packages/statsmodels/tsa/tsatools.py:117: FutureWarning: In a future version of pandas all arguments of concat except for the argument 'objs' will be keyword-only\n",
            "  x = pd.concat(x[::order], 1)\n"
          ]
        },
        {
          "output_type": "execute_result",
          "data": {
            "text/html": [
              "<table class=\"simpletable\">\n",
              "<caption>OLS Regression Results</caption>\n",
              "<tr>\n",
              "  <th>Dep. Variable:</th>       <td>imdb_rating</td>   <th>  R-squared:         </th> <td>   0.106</td>\n",
              "</tr>\n",
              "<tr>\n",
              "  <th>Model:</th>                   <td>OLS</td>       <th>  Adj. R-squared:    </th> <td>   0.102</td>\n",
              "</tr>\n",
              "<tr>\n",
              "  <th>Method:</th>             <td>Least Squares</td>  <th>  F-statistic:       </th> <td>   27.62</td>\n",
              "</tr>\n",
              "<tr>\n",
              "  <th>Date:</th>             <td>Sun, 27 Feb 2022</td> <th>  Prob (F-statistic):</th> <td>3.33e-07</td>\n",
              "</tr>\n",
              "<tr>\n",
              "  <th>Time:</th>                 <td>17:09:10</td>     <th>  Log-Likelihood:    </th> <td> -110.36</td>\n",
              "</tr>\n",
              "<tr>\n",
              "  <th>No. Observations:</th>      <td>   235</td>      <th>  AIC:               </th> <td>   224.7</td>\n",
              "</tr>\n",
              "<tr>\n",
              "  <th>Df Residuals:</th>          <td>   233</td>      <th>  BIC:               </th> <td>   231.6</td>\n",
              "</tr>\n",
              "<tr>\n",
              "  <th>Df Model:</th>              <td>     1</td>      <th>                     </th>     <td> </td>   \n",
              "</tr>\n",
              "<tr>\n",
              "  <th>Covariance Type:</th>      <td>nonrobust</td>    <th>                     </th>     <td> </td>   \n",
              "</tr>\n",
              "</table>\n",
              "<table class=\"simpletable\">\n",
              "<tr>\n",
              "       <td></td>         <th>coef</th>     <th>std err</th>      <th>t</th>      <th>P>|t|</th>  <th>[0.025</th>    <th>0.975]</th>  \n",
              "</tr>\n",
              "<tr>\n",
              "  <th>const</th>      <td>    7.7354</td> <td>    0.133</td> <td>   58.083</td> <td> 0.000</td> <td>    7.473</td> <td>    7.998</td>\n",
              "</tr>\n",
              "<tr>\n",
              "  <th>us_viewers</th> <td> 2.719e-08</td> <td> 5.17e-09</td> <td>    5.256</td> <td> 0.000</td> <td>  1.7e-08</td> <td> 3.74e-08</td>\n",
              "</tr>\n",
              "</table>\n",
              "<table class=\"simpletable\">\n",
              "<tr>\n",
              "  <th>Omnibus:</th>       <td> 3.358</td> <th>  Durbin-Watson:     </th> <td>   1.684</td>\n",
              "</tr>\n",
              "<tr>\n",
              "  <th>Prob(Omnibus):</th> <td> 0.187</td> <th>  Jarque-Bera (JB):  </th> <td>   3.000</td>\n",
              "</tr>\n",
              "<tr>\n",
              "  <th>Skew:</th>          <td> 0.226</td> <th>  Prob(JB):          </th> <td>   0.223</td>\n",
              "</tr>\n",
              "<tr>\n",
              "  <th>Kurtosis:</th>      <td> 3.319</td> <th>  Cond. No.          </th> <td>1.35e+08</td>\n",
              "</tr>\n",
              "</table><br/><br/>Warnings:<br/>[1] Standard Errors assume that the covariance matrix of the errors is correctly specified.<br/>[2] The condition number is large, 1.35e+08. This might indicate that there are<br/>strong multicollinearity or other numerical problems."
            ],
            "text/plain": [
              "<class 'statsmodels.iolib.summary.Summary'>\n",
              "\"\"\"\n",
              "                            OLS Regression Results                            \n",
              "==============================================================================\n",
              "Dep. Variable:            imdb_rating   R-squared:                       0.106\n",
              "Model:                            OLS   Adj. R-squared:                  0.102\n",
              "Method:                 Least Squares   F-statistic:                     27.62\n",
              "Date:                Sun, 27 Feb 2022   Prob (F-statistic):           3.33e-07\n",
              "Time:                        17:09:10   Log-Likelihood:                -110.36\n",
              "No. Observations:                 235   AIC:                             224.7\n",
              "Df Residuals:                     233   BIC:                             231.6\n",
              "Df Model:                           1                                         \n",
              "Covariance Type:            nonrobust                                         \n",
              "==============================================================================\n",
              "                 coef    std err          t      P>|t|      [0.025      0.975]\n",
              "------------------------------------------------------------------------------\n",
              "const          7.7354      0.133     58.083      0.000       7.473       7.998\n",
              "us_viewers  2.719e-08   5.17e-09      5.256      0.000     1.7e-08    3.74e-08\n",
              "==============================================================================\n",
              "Omnibus:                        3.358   Durbin-Watson:                   1.684\n",
              "Prob(Omnibus):                  0.187   Jarque-Bera (JB):                3.000\n",
              "Skew:                           0.226   Prob(JB):                        0.223\n",
              "Kurtosis:                       3.319   Cond. No.                     1.35e+08\n",
              "==============================================================================\n",
              "\n",
              "Warnings:\n",
              "[1] Standard Errors assume that the covariance matrix of the errors is correctly specified.\n",
              "[2] The condition number is large, 1.35e+08. This might indicate that there are\n",
              "strong multicollinearity or other numerical problems.\n",
              "\"\"\""
            ]
          },
          "metadata": {},
          "execution_count": 29
        }
      ]
    },
    {
      "cell_type": "markdown",
      "source": [
        "Given that the p-value for the F-statistic is smaller than commonly used significant levels, the null hypothesis that there is no linear relationship between the 2 variables is rejected."
      ],
      "metadata": {
        "id": "ItvTqHZbJdYO"
      }
    },
    {
      "cell_type": "markdown",
      "metadata": {
        "id": "R7hWqSKqW8Lo"
      },
      "source": [
        "### Top 5 Directors by Total Number of Episodes"
      ]
    },
    {
      "cell_type": "code",
      "execution_count": 22,
      "metadata": {
        "id": "C6YpR5OpXKPD",
        "colab": {
          "base_uri": "https://localhost:8080/"
        },
        "outputId": "b2d8ad8f-da72-4d97-ef43-090f0118080b"
      },
      "outputs": [
        {
          "output_type": "execute_result",
          "data": {
            "text/plain": [
              "directed_by\n",
              "Gary Halvorson     54\n",
              "Kevin S. Bright    52\n",
              "Michael Lembeck    24\n",
              "James Burrows      15\n",
              "Gail Mancuso       14\n",
              "dtype: int64"
            ]
          },
          "metadata": {},
          "execution_count": 22
        }
      ],
      "source": [
        "df_episodes.value_counts(\"directed_by\").head()"
      ]
    },
    {
      "cell_type": "markdown",
      "source": [
        "Gary Halvorson and Kevin S.Bright leads in the number of episodes directed, directing more than double the episodes of the 3rd place Michael Lembeck. In fact, the top 2 directors directed nearly half the total number of episodes."
      ],
      "metadata": {
        "id": "iRDk5IU8YHSI"
      }
    },
    {
      "cell_type": "markdown",
      "metadata": {
        "id": "D_SxwgPGYk5U"
      },
      "source": [
        "### Top 5 Directors by Average Viewership"
      ]
    },
    {
      "cell_type": "code",
      "execution_count": 23,
      "metadata": {
        "colab": {
          "base_uri": "https://localhost:8080/",
          "height": 269
        },
        "id": "VbT5W0fNZBCB",
        "outputId": "24f97c53-f35e-441c-b386-e4e093bc805d"
      },
      "outputs": [
        {
          "output_type": "execute_result",
          "data": {
            "text/html": [
              "\n",
              "  <div id=\"df-d20cc1b2-82ec-4f66-9790-64f112cfac52\">\n",
              "    <div class=\"colab-df-container\">\n",
              "      <div>\n",
              "<style scoped>\n",
              "    .dataframe tbody tr th:only-of-type {\n",
              "        vertical-align: middle;\n",
              "    }\n",
              "\n",
              "    .dataframe tbody tr th {\n",
              "        vertical-align: top;\n",
              "    }\n",
              "\n",
              "    .dataframe thead tr th {\n",
              "        text-align: left;\n",
              "    }\n",
              "\n",
              "    .dataframe thead tr:last-of-type th {\n",
              "        text-align: right;\n",
              "    }\n",
              "</style>\n",
              "<table border=\"1\" class=\"dataframe\">\n",
              "  <thead>\n",
              "    <tr>\n",
              "      <th></th>\n",
              "      <th>us_viewers</th>\n",
              "    </tr>\n",
              "    <tr>\n",
              "      <th></th>\n",
              "      <th>mean</th>\n",
              "    </tr>\n",
              "    <tr>\n",
              "      <th>directed_by</th>\n",
              "      <th></th>\n",
              "    </tr>\n",
              "  </thead>\n",
              "  <tbody>\n",
              "    <tr>\n",
              "      <th>Mary Kay Place</th>\n",
              "      <td>3.290000e+07</td>\n",
              "    </tr>\n",
              "    <tr>\n",
              "      <th>Thomas Schlamme</th>\n",
              "      <td>3.190000e+07</td>\n",
              "    </tr>\n",
              "    <tr>\n",
              "      <th>Michael Lembeck</th>\n",
              "      <td>2.958792e+07</td>\n",
              "    </tr>\n",
              "    <tr>\n",
              "      <th>Ellen Gittelsohn</th>\n",
              "      <td>2.830000e+07</td>\n",
              "    </tr>\n",
              "    <tr>\n",
              "      <th>Robby Benson</th>\n",
              "      <td>2.793167e+07</td>\n",
              "    </tr>\n",
              "  </tbody>\n",
              "</table>\n",
              "</div>\n",
              "      <button class=\"colab-df-convert\" onclick=\"convertToInteractive('df-d20cc1b2-82ec-4f66-9790-64f112cfac52')\"\n",
              "              title=\"Convert this dataframe to an interactive table.\"\n",
              "              style=\"display:none;\">\n",
              "        \n",
              "  <svg xmlns=\"http://www.w3.org/2000/svg\" height=\"24px\"viewBox=\"0 0 24 24\"\n",
              "       width=\"24px\">\n",
              "    <path d=\"M0 0h24v24H0V0z\" fill=\"none\"/>\n",
              "    <path d=\"M18.56 5.44l.94 2.06.94-2.06 2.06-.94-2.06-.94-.94-2.06-.94 2.06-2.06.94zm-11 1L8.5 8.5l.94-2.06 2.06-.94-2.06-.94L8.5 2.5l-.94 2.06-2.06.94zm10 10l.94 2.06.94-2.06 2.06-.94-2.06-.94-.94-2.06-.94 2.06-2.06.94z\"/><path d=\"M17.41 7.96l-1.37-1.37c-.4-.4-.92-.59-1.43-.59-.52 0-1.04.2-1.43.59L10.3 9.45l-7.72 7.72c-.78.78-.78 2.05 0 2.83L4 21.41c.39.39.9.59 1.41.59.51 0 1.02-.2 1.41-.59l7.78-7.78 2.81-2.81c.8-.78.8-2.07 0-2.86zM5.41 20L4 18.59l7.72-7.72 1.47 1.35L5.41 20z\"/>\n",
              "  </svg>\n",
              "      </button>\n",
              "      \n",
              "  <style>\n",
              "    .colab-df-container {\n",
              "      display:flex;\n",
              "      flex-wrap:wrap;\n",
              "      gap: 12px;\n",
              "    }\n",
              "\n",
              "    .colab-df-convert {\n",
              "      background-color: #E8F0FE;\n",
              "      border: none;\n",
              "      border-radius: 50%;\n",
              "      cursor: pointer;\n",
              "      display: none;\n",
              "      fill: #1967D2;\n",
              "      height: 32px;\n",
              "      padding: 0 0 0 0;\n",
              "      width: 32px;\n",
              "    }\n",
              "\n",
              "    .colab-df-convert:hover {\n",
              "      background-color: #E2EBFA;\n",
              "      box-shadow: 0px 1px 2px rgba(60, 64, 67, 0.3), 0px 1px 3px 1px rgba(60, 64, 67, 0.15);\n",
              "      fill: #174EA6;\n",
              "    }\n",
              "\n",
              "    [theme=dark] .colab-df-convert {\n",
              "      background-color: #3B4455;\n",
              "      fill: #D2E3FC;\n",
              "    }\n",
              "\n",
              "    [theme=dark] .colab-df-convert:hover {\n",
              "      background-color: #434B5C;\n",
              "      box-shadow: 0px 1px 3px 1px rgba(0, 0, 0, 0.15);\n",
              "      filter: drop-shadow(0px 1px 2px rgba(0, 0, 0, 0.3));\n",
              "      fill: #FFFFFF;\n",
              "    }\n",
              "  </style>\n",
              "\n",
              "      <script>\n",
              "        const buttonEl =\n",
              "          document.querySelector('#df-d20cc1b2-82ec-4f66-9790-64f112cfac52 button.colab-df-convert');\n",
              "        buttonEl.style.display =\n",
              "          google.colab.kernel.accessAllowed ? 'block' : 'none';\n",
              "\n",
              "        async function convertToInteractive(key) {\n",
              "          const element = document.querySelector('#df-d20cc1b2-82ec-4f66-9790-64f112cfac52');\n",
              "          const dataTable =\n",
              "            await google.colab.kernel.invokeFunction('convertToInteractive',\n",
              "                                                     [key], {});\n",
              "          if (!dataTable) return;\n",
              "\n",
              "          const docLinkHtml = 'Like what you see? Visit the ' +\n",
              "            '<a target=\"_blank\" href=https://colab.research.google.com/notebooks/data_table.ipynb>data table notebook</a>'\n",
              "            + ' to learn more about interactive tables.';\n",
              "          element.innerHTML = '';\n",
              "          dataTable['output_type'] = 'display_data';\n",
              "          await google.colab.output.renderOutput(dataTable, element);\n",
              "          const docLink = document.createElement('div');\n",
              "          docLink.innerHTML = docLinkHtml;\n",
              "          element.appendChild(docLink);\n",
              "        }\n",
              "      </script>\n",
              "    </div>\n",
              "  </div>\n",
              "  "
            ],
            "text/plain": [
              "                    us_viewers\n",
              "                          mean\n",
              "directed_by                   \n",
              "Mary Kay Place    3.290000e+07\n",
              "Thomas Schlamme   3.190000e+07\n",
              "Michael Lembeck   2.958792e+07\n",
              "Ellen Gittelsohn  2.830000e+07\n",
              "Robby Benson      2.793167e+07"
            ]
          },
          "metadata": {},
          "execution_count": 23
        }
      ],
      "source": [
        "df_episodes.groupby([\"directed_by\"]).agg({\"us_viewers\":[\"mean\"]}).sort_values((\"us_viewers\",\"mean\"), ascending = False).head()"
      ]
    },
    {
      "cell_type": "markdown",
      "source": [
        "### Which Character has Appeared the Most in the Title?"
      ],
      "metadata": {
        "id": "UZXDXYE4OjLK"
      }
    },
    {
      "cell_type": "code",
      "source": [
        "characters = [\"Joey\",\"Chandler\",\"Ross\",\"Rachel\",\"Monica\",\"Phoebe\"]\n",
        "count=[]\n",
        "for character in characters:\n",
        "  count.append(df_episodes[\"title\"].str.count(character).sum())\n",
        "pd.DataFrame(count, characters).sort_values(0, ascending = False)"
      ],
      "metadata": {
        "colab": {
          "base_uri": "https://localhost:8080/",
          "height": 237
        },
        "id": "hsAUgNepOigZ",
        "outputId": "4d71c8d5-7369-4ab6-fb18-deb2dd28f8e7"
      },
      "execution_count": 24,
      "outputs": [
        {
          "output_type": "execute_result",
          "data": {
            "text/html": [
              "\n",
              "  <div id=\"df-814d9b90-1bde-48f0-b092-b02e9d5c961a\">\n",
              "    <div class=\"colab-df-container\">\n",
              "      <div>\n",
              "<style scoped>\n",
              "    .dataframe tbody tr th:only-of-type {\n",
              "        vertical-align: middle;\n",
              "    }\n",
              "\n",
              "    .dataframe tbody tr th {\n",
              "        vertical-align: top;\n",
              "    }\n",
              "\n",
              "    .dataframe thead th {\n",
              "        text-align: right;\n",
              "    }\n",
              "</style>\n",
              "<table border=\"1\" class=\"dataframe\">\n",
              "  <thead>\n",
              "    <tr style=\"text-align: right;\">\n",
              "      <th></th>\n",
              "      <th>0</th>\n",
              "    </tr>\n",
              "  </thead>\n",
              "  <tbody>\n",
              "    <tr>\n",
              "      <th>Rachel</th>\n",
              "      <td>28</td>\n",
              "    </tr>\n",
              "    <tr>\n",
              "      <th>Ross</th>\n",
              "      <td>24</td>\n",
              "    </tr>\n",
              "    <tr>\n",
              "      <th>Joey</th>\n",
              "      <td>16</td>\n",
              "    </tr>\n",
              "    <tr>\n",
              "      <th>Chandler</th>\n",
              "      <td>11</td>\n",
              "    </tr>\n",
              "    <tr>\n",
              "      <th>Phoebe</th>\n",
              "      <td>10</td>\n",
              "    </tr>\n",
              "    <tr>\n",
              "      <th>Monica</th>\n",
              "      <td>9</td>\n",
              "    </tr>\n",
              "  </tbody>\n",
              "</table>\n",
              "</div>\n",
              "      <button class=\"colab-df-convert\" onclick=\"convertToInteractive('df-814d9b90-1bde-48f0-b092-b02e9d5c961a')\"\n",
              "              title=\"Convert this dataframe to an interactive table.\"\n",
              "              style=\"display:none;\">\n",
              "        \n",
              "  <svg xmlns=\"http://www.w3.org/2000/svg\" height=\"24px\"viewBox=\"0 0 24 24\"\n",
              "       width=\"24px\">\n",
              "    <path d=\"M0 0h24v24H0V0z\" fill=\"none\"/>\n",
              "    <path d=\"M18.56 5.44l.94 2.06.94-2.06 2.06-.94-2.06-.94-.94-2.06-.94 2.06-2.06.94zm-11 1L8.5 8.5l.94-2.06 2.06-.94-2.06-.94L8.5 2.5l-.94 2.06-2.06.94zm10 10l.94 2.06.94-2.06 2.06-.94-2.06-.94-.94-2.06-.94 2.06-2.06.94z\"/><path d=\"M17.41 7.96l-1.37-1.37c-.4-.4-.92-.59-1.43-.59-.52 0-1.04.2-1.43.59L10.3 9.45l-7.72 7.72c-.78.78-.78 2.05 0 2.83L4 21.41c.39.39.9.59 1.41.59.51 0 1.02-.2 1.41-.59l7.78-7.78 2.81-2.81c.8-.78.8-2.07 0-2.86zM5.41 20L4 18.59l7.72-7.72 1.47 1.35L5.41 20z\"/>\n",
              "  </svg>\n",
              "      </button>\n",
              "      \n",
              "  <style>\n",
              "    .colab-df-container {\n",
              "      display:flex;\n",
              "      flex-wrap:wrap;\n",
              "      gap: 12px;\n",
              "    }\n",
              "\n",
              "    .colab-df-convert {\n",
              "      background-color: #E8F0FE;\n",
              "      border: none;\n",
              "      border-radius: 50%;\n",
              "      cursor: pointer;\n",
              "      display: none;\n",
              "      fill: #1967D2;\n",
              "      height: 32px;\n",
              "      padding: 0 0 0 0;\n",
              "      width: 32px;\n",
              "    }\n",
              "\n",
              "    .colab-df-convert:hover {\n",
              "      background-color: #E2EBFA;\n",
              "      box-shadow: 0px 1px 2px rgba(60, 64, 67, 0.3), 0px 1px 3px 1px rgba(60, 64, 67, 0.15);\n",
              "      fill: #174EA6;\n",
              "    }\n",
              "\n",
              "    [theme=dark] .colab-df-convert {\n",
              "      background-color: #3B4455;\n",
              "      fill: #D2E3FC;\n",
              "    }\n",
              "\n",
              "    [theme=dark] .colab-df-convert:hover {\n",
              "      background-color: #434B5C;\n",
              "      box-shadow: 0px 1px 3px 1px rgba(0, 0, 0, 0.15);\n",
              "      filter: drop-shadow(0px 1px 2px rgba(0, 0, 0, 0.3));\n",
              "      fill: #FFFFFF;\n",
              "    }\n",
              "  </style>\n",
              "\n",
              "      <script>\n",
              "        const buttonEl =\n",
              "          document.querySelector('#df-814d9b90-1bde-48f0-b092-b02e9d5c961a button.colab-df-convert');\n",
              "        buttonEl.style.display =\n",
              "          google.colab.kernel.accessAllowed ? 'block' : 'none';\n",
              "\n",
              "        async function convertToInteractive(key) {\n",
              "          const element = document.querySelector('#df-814d9b90-1bde-48f0-b092-b02e9d5c961a');\n",
              "          const dataTable =\n",
              "            await google.colab.kernel.invokeFunction('convertToInteractive',\n",
              "                                                     [key], {});\n",
              "          if (!dataTable) return;\n",
              "\n",
              "          const docLinkHtml = 'Like what you see? Visit the ' +\n",
              "            '<a target=\"_blank\" href=https://colab.research.google.com/notebooks/data_table.ipynb>data table notebook</a>'\n",
              "            + ' to learn more about interactive tables.';\n",
              "          element.innerHTML = '';\n",
              "          dataTable['output_type'] = 'display_data';\n",
              "          await google.colab.output.renderOutput(dataTable, element);\n",
              "          const docLink = document.createElement('div');\n",
              "          docLink.innerHTML = docLinkHtml;\n",
              "          element.appendChild(docLink);\n",
              "        }\n",
              "      </script>\n",
              "    </div>\n",
              "  </div>\n",
              "  "
            ],
            "text/plain": [
              "           0\n",
              "Rachel    28\n",
              "Ross      24\n",
              "Joey      16\n",
              "Chandler  11\n",
              "Phoebe    10\n",
              "Monica     9"
            ]
          },
          "metadata": {},
          "execution_count": 24
        }
      ]
    },
    {
      "cell_type": "markdown",
      "source": [
        "Ross and Rachel has appeared the most in the title. I guess their relationship is the highlight of the show."
      ],
      "metadata": {
        "id": "rkWq0RjZUvvB"
      }
    },
    {
      "cell_type": "markdown",
      "source": [
        "## Conclusion\n"
      ],
      "metadata": {
        "id": "HyMDV6pUYnRd"
      }
    },
    {
      "cell_type": "markdown",
      "source": [
        "We have managed to correct the errors with the datasets, such as the mislabelled episode number and the discrepancy between the 2 datasets. Furthermore, we have visualised the trends in viewership and ratings overtime, and analysed the dataset to answer questions such as how often the main characters appear in the title and how the directors rank in terms of average viewership and number of episodes directed. The data on popularity and ratings can allow media companies to pick snippets from popular or well-reviewed episodes to show in trailers, which would attract more viewers to their platform. I hope to see more datasets come out of this show, such as individual textual reviews by the viewers, which would allow for Sentiment Analysis to gauge the viewer's response to the show."
      ],
      "metadata": {
        "id": "qowtvO9rYqM-"
      }
    }
  ],
  "metadata": {
    "colab": {
      "name": "FriendsEDA.ipynb",
      "provenance": [],
      "collapsed_sections": [],
      "authorship_tag": "ABX9TyPhtu+/IBjzqvSnmCKOQfEw",
      "include_colab_link": true
    },
    "kernelspec": {
      "display_name": "Python 3",
      "name": "python3"
    },
    "language_info": {
      "name": "python"
    }
  },
  "nbformat": 4,
  "nbformat_minor": 0
}