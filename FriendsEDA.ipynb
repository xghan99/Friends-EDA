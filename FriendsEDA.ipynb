{
  "cells": [
    {
      "cell_type": "markdown",
      "metadata": {
        "id": "view-in-github",
        "colab_type": "text"
      },
      "source": [
        "<a href=\"https://colab.research.google.com/github/xghan99/Friends-EDA/blob/main/FriendsEDA.ipynb\" target=\"_parent\"><img src=\"https://colab.research.google.com/assets/colab-badge.svg\" alt=\"Open In Colab\"/></a>"
      ]
    },
    {
      "cell_type": "markdown",
      "metadata": {
        "id": "IJHNj7Wh7luP"
      },
      "source": [
        "## Loading Data"
      ]
    },
    {
      "cell_type": "code",
      "execution_count": 39,
      "metadata": {
        "id": "R2vRnphc8JqL"
      },
      "outputs": [],
      "source": [
        "#Pulling Data from github\n",
        "url_episodes = \"https://raw.githubusercontent.com/xghan99/Friends-EDA/main/friends_episodes.csv\"\n",
        "url_imdb = \"https://raw.githubusercontent.com/xghan99/Friends-EDA/main/friends_imdb.csv\"\n",
        "import pandas as pd\n",
        "df_episodes = pd.read_csv(url_episodes)\n",
        "df_imdb = pd.read_csv(url_imdb)"
      ]
    },
    {
      "cell_type": "code",
      "execution_count": 40,
      "metadata": {
        "colab": {
          "base_uri": "https://localhost:8080/",
          "height": 206
        },
        "id": "5J6YF4Cu80dg",
        "outputId": "1e665858-bcad-4f2e-c6d5-fb91f2ee47c7"
      },
      "outputs": [
        {
          "output_type": "execute_result",
          "data": {
            "text/html": [
              "<div>\n",
              "<style scoped>\n",
              "    .dataframe tbody tr th:only-of-type {\n",
              "        vertical-align: middle;\n",
              "    }\n",
              "\n",
              "    .dataframe tbody tr th {\n",
              "        vertical-align: top;\n",
              "    }\n",
              "\n",
              "    .dataframe thead th {\n",
              "        text-align: right;\n",
              "    }\n",
              "</style>\n",
              "<table border=\"1\" class=\"dataframe\">\n",
              "  <thead>\n",
              "    <tr style=\"text-align: right;\">\n",
              "      <th></th>\n",
              "      <th>season</th>\n",
              "      <th>episode_num_in_season</th>\n",
              "      <th>episode_num_overall</th>\n",
              "      <th>title</th>\n",
              "      <th>directed_by</th>\n",
              "      <th>written_by</th>\n",
              "      <th>original_air_date</th>\n",
              "      <th>prod_code</th>\n",
              "      <th>us_viewers</th>\n",
              "    </tr>\n",
              "  </thead>\n",
              "  <tbody>\n",
              "    <tr>\n",
              "      <th>0</th>\n",
              "      <td>1</td>\n",
              "      <td>1</td>\n",
              "      <td>1</td>\n",
              "      <td>The One Where Monica Gets a Roommate</td>\n",
              "      <td>James Burrows</td>\n",
              "      <td>David Crane &amp; Marta Kauffman</td>\n",
              "      <td>1994-09-22</td>\n",
              "      <td>456650</td>\n",
              "      <td>21500000.0</td>\n",
              "    </tr>\n",
              "    <tr>\n",
              "      <th>1</th>\n",
              "      <td>1</td>\n",
              "      <td>2</td>\n",
              "      <td>2</td>\n",
              "      <td>The One with the Sonogram at the End</td>\n",
              "      <td>James Burrows</td>\n",
              "      <td>David Crane &amp; Marta Kauffman</td>\n",
              "      <td>1994-09-29</td>\n",
              "      <td>456652</td>\n",
              "      <td>20200000.0</td>\n",
              "    </tr>\n",
              "    <tr>\n",
              "      <th>2</th>\n",
              "      <td>1</td>\n",
              "      <td>3</td>\n",
              "      <td>3</td>\n",
              "      <td>The One with the Thumb</td>\n",
              "      <td>James Burrows</td>\n",
              "      <td>Jeffrey Astrof &amp; Mike Sikowitz</td>\n",
              "      <td>1994-10-06</td>\n",
              "      <td>456651</td>\n",
              "      <td>19500000.0</td>\n",
              "    </tr>\n",
              "    <tr>\n",
              "      <th>3</th>\n",
              "      <td>1</td>\n",
              "      <td>4</td>\n",
              "      <td>4</td>\n",
              "      <td>The One with George Stephanopoulos</td>\n",
              "      <td>James Burrows</td>\n",
              "      <td>Alexa Junge</td>\n",
              "      <td>1994-10-13</td>\n",
              "      <td>456654</td>\n",
              "      <td>19700000.0</td>\n",
              "    </tr>\n",
              "    <tr>\n",
              "      <th>4</th>\n",
              "      <td>1</td>\n",
              "      <td>5</td>\n",
              "      <td>5</td>\n",
              "      <td>The One with the East German Laundry Detergent</td>\n",
              "      <td>Pamela Fryman</td>\n",
              "      <td>Jeff Greenstein &amp; Jeff Strauss</td>\n",
              "      <td>1994-10-20</td>\n",
              "      <td>456653</td>\n",
              "      <td>18600000.0</td>\n",
              "    </tr>\n",
              "  </tbody>\n",
              "</table>\n",
              "</div>"
            ],
            "text/plain": [
              "   season  episode_num_in_season  ...  prod_code  us_viewers\n",
              "0       1                      1  ...     456650  21500000.0\n",
              "1       1                      2  ...     456652  20200000.0\n",
              "2       1                      3  ...     456651  19500000.0\n",
              "3       1                      4  ...     456654  19700000.0\n",
              "4       1                      5  ...     456653  18600000.0\n",
              "\n",
              "[5 rows x 9 columns]"
            ]
          },
          "metadata": {},
          "execution_count": 40
        }
      ],
      "source": [
        "df_episodes.head()"
      ]
    },
    {
      "cell_type": "code",
      "execution_count": 41,
      "metadata": {
        "colab": {
          "base_uri": "https://localhost:8080/",
          "height": 206
        },
        "id": "3eZP40QN-8pR",
        "outputId": "792388ec-2141-4036-d3e4-39c03ba0b053"
      },
      "outputs": [
        {
          "output_type": "execute_result",
          "data": {
            "text/html": [
              "<div>\n",
              "<style scoped>\n",
              "    .dataframe tbody tr th:only-of-type {\n",
              "        vertical-align: middle;\n",
              "    }\n",
              "\n",
              "    .dataframe tbody tr th {\n",
              "        vertical-align: top;\n",
              "    }\n",
              "\n",
              "    .dataframe thead th {\n",
              "        text-align: right;\n",
              "    }\n",
              "</style>\n",
              "<table border=\"1\" class=\"dataframe\">\n",
              "  <thead>\n",
              "    <tr style=\"text-align: right;\">\n",
              "      <th></th>\n",
              "      <th>season</th>\n",
              "      <th>episode_num</th>\n",
              "      <th>title</th>\n",
              "      <th>original_air_date</th>\n",
              "      <th>imdb_rating</th>\n",
              "      <th>total_votes</th>\n",
              "      <th>desc</th>\n",
              "    </tr>\n",
              "  </thead>\n",
              "  <tbody>\n",
              "    <tr>\n",
              "      <th>0</th>\n",
              "      <td>1</td>\n",
              "      <td>1</td>\n",
              "      <td>The One Where Monica Gets a Roommate</td>\n",
              "      <td>22 Sep. 1994</td>\n",
              "      <td>8.3</td>\n",
              "      <td>8378</td>\n",
              "      <td>Monica and the gang introduce Rachel to the \"r...</td>\n",
              "    </tr>\n",
              "    <tr>\n",
              "      <th>1</th>\n",
              "      <td>1</td>\n",
              "      <td>2</td>\n",
              "      <td>The One with the Sonogram at the End</td>\n",
              "      <td>29 Sep. 1994</td>\n",
              "      <td>8.0</td>\n",
              "      <td>6441</td>\n",
              "      <td>Ross finds out his ex-wife is pregnant. Rachel...</td>\n",
              "    </tr>\n",
              "    <tr>\n",
              "      <th>2</th>\n",
              "      <td>1</td>\n",
              "      <td>3</td>\n",
              "      <td>The One with the Thumb</td>\n",
              "      <td>6 Oct. 1994</td>\n",
              "      <td>8.1</td>\n",
              "      <td>6060</td>\n",
              "      <td>Monica becomes irritated when everyone likes h...</td>\n",
              "    </tr>\n",
              "    <tr>\n",
              "      <th>3</th>\n",
              "      <td>1</td>\n",
              "      <td>4</td>\n",
              "      <td>The One with George Stephanopoulos</td>\n",
              "      <td>13 Oct. 1994</td>\n",
              "      <td>8.1</td>\n",
              "      <td>5892</td>\n",
              "      <td>Joey and Chandler take Ross to a hockey game t...</td>\n",
              "    </tr>\n",
              "    <tr>\n",
              "      <th>4</th>\n",
              "      <td>1</td>\n",
              "      <td>5</td>\n",
              "      <td>The One with the East German Laundry Detergent</td>\n",
              "      <td>20 Oct. 1994</td>\n",
              "      <td>8.4</td>\n",
              "      <td>5872</td>\n",
              "      <td>Eager to spend time with Rachel, Ross pretends...</td>\n",
              "    </tr>\n",
              "  </tbody>\n",
              "</table>\n",
              "</div>"
            ],
            "text/plain": [
              "   season  ...                                               desc\n",
              "0       1  ...  Monica and the gang introduce Rachel to the \"r...\n",
              "1       1  ...  Ross finds out his ex-wife is pregnant. Rachel...\n",
              "2       1  ...  Monica becomes irritated when everyone likes h...\n",
              "3       1  ...  Joey and Chandler take Ross to a hockey game t...\n",
              "4       1  ...  Eager to spend time with Rachel, Ross pretends...\n",
              "\n",
              "[5 rows x 7 columns]"
            ]
          },
          "metadata": {},
          "execution_count": 41
        }
      ],
      "source": [
        "df_imdb.head()"
      ]
    },
    {
      "cell_type": "markdown",
      "metadata": {
        "id": "KzAJhGMV7gUZ"
      },
      "source": [
        "## Check for Missing Values"
      ]
    },
    {
      "cell_type": "code",
      "execution_count": 42,
      "metadata": {
        "colab": {
          "base_uri": "https://localhost:8080/"
        },
        "id": "HoVrmlrN6sbA",
        "outputId": "8b70ce43-9d6d-4932-c903-34f5eb565b09"
      },
      "outputs": [
        {
          "output_type": "execute_result",
          "data": {
            "text/plain": [
              "season                   0\n",
              "episode_num_in_season    0\n",
              "episode_num_overall      0\n",
              "title                    0\n",
              "directed_by              0\n",
              "written_by               0\n",
              "original_air_date        0\n",
              "prod_code                0\n",
              "us_viewers               0\n",
              "dtype: int64"
            ]
          },
          "metadata": {},
          "execution_count": 42
        }
      ],
      "source": [
        "df_episodes.isnull().sum()"
      ]
    },
    {
      "cell_type": "code",
      "execution_count": 43,
      "metadata": {
        "colab": {
          "base_uri": "https://localhost:8080/"
        },
        "id": "J5XfFhBP7X5P",
        "outputId": "d6f2228f-cdff-48d8-bff9-bb761016248e"
      },
      "outputs": [
        {
          "output_type": "execute_result",
          "data": {
            "text/plain": [
              "season               0\n",
              "episode_num          0\n",
              "title                0\n",
              "original_air_date    0\n",
              "imdb_rating          0\n",
              "total_votes          0\n",
              "desc                 0\n",
              "dtype: int64"
            ]
          },
          "metadata": {},
          "execution_count": 43
        }
      ],
      "source": [
        "df_imdb.isnull().sum()"
      ]
    },
    {
      "cell_type": "markdown",
      "source": [
        "No missing values in either of the datasets"
      ],
      "metadata": {
        "id": "rrDLi0zJSOZG"
      }
    },
    {
      "cell_type": "markdown",
      "metadata": {
        "id": "AinSx_ml7u2Q"
      },
      "source": [
        "## Overview of Dataset\n"
      ]
    },
    {
      "cell_type": "code",
      "execution_count": 44,
      "metadata": {
        "colab": {
          "base_uri": "https://localhost:8080/"
        },
        "id": "8ZVMDX8fR0rA",
        "outputId": "24f5f02c-fc07-4916-9dfd-0b1f4116d899"
      },
      "outputs": [
        {
          "output_type": "execute_result",
          "data": {
            "text/plain": [
              "(236, 9)"
            ]
          },
          "metadata": {},
          "execution_count": 44
        }
      ],
      "source": [
        "df_episodes.shape"
      ]
    },
    {
      "cell_type": "code",
      "execution_count": 45,
      "metadata": {
        "colab": {
          "base_uri": "https://localhost:8080/"
        },
        "id": "2MqlKwTIR0Z0",
        "outputId": "f10b42cc-4c52-4533-df28-c5a493068373"
      },
      "outputs": [
        {
          "output_type": "execute_result",
          "data": {
            "text/plain": [
              "(235, 7)"
            ]
          },
          "metadata": {},
          "execution_count": 45
        }
      ],
      "source": [
        "df_imdb.shape"
      ]
    },
    {
      "cell_type": "markdown",
      "source": [
        "df_episodes has 236 rows and 9 columns, while df_imdb has 235 rows and 7 columns. It is odd that the episodes dataset has 1 more entry than the imdb dataset. Given that the data is in chronological order. Lets check the tail of the datasets."
      ],
      "metadata": {
        "id": "zjRJy9L_SUeE"
      }
    },
    {
      "cell_type": "code",
      "execution_count": 11,
      "metadata": {
        "colab": {
          "base_uri": "https://localhost:8080/",
          "height": 206
        },
        "id": "bQvbcnRLSLo4",
        "outputId": "5f675975-abfd-4505-f0b7-9382d5820e70"
      },
      "outputs": [
        {
          "output_type": "execute_result",
          "data": {
            "text/html": [
              "<div>\n",
              "<style scoped>\n",
              "    .dataframe tbody tr th:only-of-type {\n",
              "        vertical-align: middle;\n",
              "    }\n",
              "\n",
              "    .dataframe tbody tr th {\n",
              "        vertical-align: top;\n",
              "    }\n",
              "\n",
              "    .dataframe thead th {\n",
              "        text-align: right;\n",
              "    }\n",
              "</style>\n",
              "<table border=\"1\" class=\"dataframe\">\n",
              "  <thead>\n",
              "    <tr style=\"text-align: right;\">\n",
              "      <th></th>\n",
              "      <th>season</th>\n",
              "      <th>episode_num_in_season</th>\n",
              "      <th>episode_num_overall</th>\n",
              "      <th>title</th>\n",
              "      <th>directed_by</th>\n",
              "      <th>written_by</th>\n",
              "      <th>original_air_date</th>\n",
              "      <th>prod_code</th>\n",
              "      <th>us_viewers</th>\n",
              "    </tr>\n",
              "  </thead>\n",
              "  <tbody>\n",
              "    <tr>\n",
              "      <th>231</th>\n",
              "      <td>10</td>\n",
              "      <td>14</td>\n",
              "      <td>232</td>\n",
              "      <td>The One with Princess Consuela</td>\n",
              "      <td>Gary Halvorson</td>\n",
              "      <td>Story by: Robert CarlockTeleplay by: Tracy Reilly</td>\n",
              "      <td>2004-02-26</td>\n",
              "      <td>176263</td>\n",
              "      <td>22820000.0</td>\n",
              "    </tr>\n",
              "    <tr>\n",
              "      <th>232</th>\n",
              "      <td>10</td>\n",
              "      <td>15</td>\n",
              "      <td>233</td>\n",
              "      <td>The One Where Estelle Dies</td>\n",
              "      <td>Gary Halvorson</td>\n",
              "      <td>Story by: Mark KunerthTeleplay by: David Crane...</td>\n",
              "      <td>2004-04-22</td>\n",
              "      <td>176264</td>\n",
              "      <td>22640000.0</td>\n",
              "    </tr>\n",
              "    <tr>\n",
              "      <th>233</th>\n",
              "      <td>10</td>\n",
              "      <td>16</td>\n",
              "      <td>234</td>\n",
              "      <td>The One with Rachel's Going Away Party</td>\n",
              "      <td>Gary Halvorson</td>\n",
              "      <td>Andrew Reich &amp; Ted Cohen</td>\n",
              "      <td>2004-04-29</td>\n",
              "      <td>176265</td>\n",
              "      <td>24510000.0</td>\n",
              "    </tr>\n",
              "    <tr>\n",
              "      <th>234</th>\n",
              "      <td>10</td>\n",
              "      <td>17</td>\n",
              "      <td>235</td>\n",
              "      <td>The Last One</td>\n",
              "      <td>Kevin S. Bright</td>\n",
              "      <td>Marta Kauffman &amp; David Crane</td>\n",
              "      <td>2004-05-06</td>\n",
              "      <td>176266</td>\n",
              "      <td>52460000.0</td>\n",
              "    </tr>\n",
              "    <tr>\n",
              "      <th>235</th>\n",
              "      <td>10</td>\n",
              "      <td>18</td>\n",
              "      <td>236</td>\n",
              "      <td>The Last One</td>\n",
              "      <td>Kevin S. Bright</td>\n",
              "      <td>Marta Kauffman &amp; David Crane</td>\n",
              "      <td>2004-05-06</td>\n",
              "      <td>176267</td>\n",
              "      <td>52460000.0</td>\n",
              "    </tr>\n",
              "  </tbody>\n",
              "</table>\n",
              "</div>"
            ],
            "text/plain": [
              "     season  episode_num_in_season  ...  prod_code  us_viewers\n",
              "231      10                     14  ...     176263  22820000.0\n",
              "232      10                     15  ...     176264  22640000.0\n",
              "233      10                     16  ...     176265  24510000.0\n",
              "234      10                     17  ...     176266  52460000.0\n",
              "235      10                     18  ...     176267  52460000.0\n",
              "\n",
              "[5 rows x 9 columns]"
            ]
          },
          "metadata": {},
          "execution_count": 11
        }
      ],
      "source": [
        "df_episodes.tail()"
      ]
    },
    {
      "cell_type": "code",
      "execution_count": 12,
      "metadata": {
        "colab": {
          "base_uri": "https://localhost:8080/",
          "height": 206
        },
        "id": "sVOQWtIeSPsX",
        "outputId": "36f9daab-6349-4b1f-fdeb-34c1b8b4b1ed"
      },
      "outputs": [
        {
          "output_type": "execute_result",
          "data": {
            "text/html": [
              "<div>\n",
              "<style scoped>\n",
              "    .dataframe tbody tr th:only-of-type {\n",
              "        vertical-align: middle;\n",
              "    }\n",
              "\n",
              "    .dataframe tbody tr th {\n",
              "        vertical-align: top;\n",
              "    }\n",
              "\n",
              "    .dataframe thead th {\n",
              "        text-align: right;\n",
              "    }\n",
              "</style>\n",
              "<table border=\"1\" class=\"dataframe\">\n",
              "  <thead>\n",
              "    <tr style=\"text-align: right;\">\n",
              "      <th></th>\n",
              "      <th>season</th>\n",
              "      <th>episode_num</th>\n",
              "      <th>title</th>\n",
              "      <th>original_air_date</th>\n",
              "      <th>imdb_rating</th>\n",
              "      <th>total_votes</th>\n",
              "      <th>desc</th>\n",
              "    </tr>\n",
              "  </thead>\n",
              "  <tbody>\n",
              "    <tr>\n",
              "      <th>230</th>\n",
              "      <td>10</td>\n",
              "      <td>13</td>\n",
              "      <td>The One Where Joey Speaks French</td>\n",
              "      <td>19 Feb. 2004</td>\n",
              "      <td>8.5</td>\n",
              "      <td>4054</td>\n",
              "      <td>Phoebe tries to teach Joey to speak French for...</td>\n",
              "    </tr>\n",
              "    <tr>\n",
              "      <th>231</th>\n",
              "      <td>10</td>\n",
              "      <td>14</td>\n",
              "      <td>The One with Princess Consuela</td>\n",
              "      <td>26 Feb. 2004</td>\n",
              "      <td>8.6</td>\n",
              "      <td>3953</td>\n",
              "      <td>When Phoebe goes to get her name changed she r...</td>\n",
              "    </tr>\n",
              "    <tr>\n",
              "      <th>232</th>\n",
              "      <td>10</td>\n",
              "      <td>15</td>\n",
              "      <td>The One Where Estelle Dies</td>\n",
              "      <td>22 Apr. 2004</td>\n",
              "      <td>8.5</td>\n",
              "      <td>3700</td>\n",
              "      <td>Ross tries to get Rachel to go back to Ralph L...</td>\n",
              "    </tr>\n",
              "    <tr>\n",
              "      <th>233</th>\n",
              "      <td>10</td>\n",
              "      <td>16</td>\n",
              "      <td>The One with Rachel's Going Away Party</td>\n",
              "      <td>29 Apr. 2004</td>\n",
              "      <td>8.9</td>\n",
              "      <td>4290</td>\n",
              "      <td>The gang throws Rachel a goodbye party, during...</td>\n",
              "    </tr>\n",
              "    <tr>\n",
              "      <th>234</th>\n",
              "      <td>10</td>\n",
              "      <td>17</td>\n",
              "      <td>The Last One</td>\n",
              "      <td>6 May 2004</td>\n",
              "      <td>9.7</td>\n",
              "      <td>14033</td>\n",
              "      <td>Phoebe races Ross to the airport in a bid to s...</td>\n",
              "    </tr>\n",
              "  </tbody>\n",
              "</table>\n",
              "</div>"
            ],
            "text/plain": [
              "     season  ...                                               desc\n",
              "230      10  ...  Phoebe tries to teach Joey to speak French for...\n",
              "231      10  ...  When Phoebe goes to get her name changed she r...\n",
              "232      10  ...  Ross tries to get Rachel to go back to Ralph L...\n",
              "233      10  ...  The gang throws Rachel a goodbye party, during...\n",
              "234      10  ...  Phoebe races Ross to the airport in a bid to s...\n",
              "\n",
              "[5 rows x 7 columns]"
            ]
          },
          "metadata": {},
          "execution_count": 12
        }
      ],
      "source": [
        "df_imdb.tail()"
      ]
    },
    {
      "cell_type": "code",
      "execution_count": 13,
      "metadata": {
        "colab": {
          "base_uri": "https://localhost:8080/"
        },
        "id": "FrtUXCZH70JM",
        "outputId": "938a8882-c0bf-4547-f0b0-0b9712d80372"
      },
      "outputs": [
        {
          "output_type": "stream",
          "name": "stdout",
          "text": [
            "<class 'pandas.core.frame.DataFrame'>\n",
            "RangeIndex: 236 entries, 0 to 235\n",
            "Data columns (total 9 columns):\n",
            " #   Column                 Non-Null Count  Dtype  \n",
            "---  ------                 --------------  -----  \n",
            " 0   season                 236 non-null    int64  \n",
            " 1   episode_num_in_season  236 non-null    int64  \n",
            " 2   episode_num_overall    236 non-null    int64  \n",
            " 3   title                  236 non-null    object \n",
            " 4   directed_by            236 non-null    object \n",
            " 5   written_by             236 non-null    object \n",
            " 6   original_air_date      236 non-null    object \n",
            " 7   prod_code              236 non-null    object \n",
            " 8   us_viewers             236 non-null    float64\n",
            "dtypes: float64(1), int64(3), object(5)\n",
            "memory usage: 16.7+ KB\n"
          ]
        }
      ],
      "source": [
        "df_episodes.info()"
      ]
    },
    {
      "cell_type": "markdown",
      "source": [
        "The episode titled \"The Last One\" was actually 2 episodes combined into 1, which explains the discrepancy. Hence, the last row of df_episodes would be deleted."
      ],
      "metadata": {
        "id": "p6MNveGSS8iv"
      }
    },
    {
      "cell_type": "code",
      "execution_count": 14,
      "metadata": {
        "colab": {
          "base_uri": "https://localhost:8080/",
          "height": 206
        },
        "id": "oJFz3DIqSWKM",
        "outputId": "55027c73-843d-4a23-c65d-e2cdde6c9d81"
      },
      "outputs": [
        {
          "output_type": "execute_result",
          "data": {
            "text/html": [
              "<div>\n",
              "<style scoped>\n",
              "    .dataframe tbody tr th:only-of-type {\n",
              "        vertical-align: middle;\n",
              "    }\n",
              "\n",
              "    .dataframe tbody tr th {\n",
              "        vertical-align: top;\n",
              "    }\n",
              "\n",
              "    .dataframe thead th {\n",
              "        text-align: right;\n",
              "    }\n",
              "</style>\n",
              "<table border=\"1\" class=\"dataframe\">\n",
              "  <thead>\n",
              "    <tr style=\"text-align: right;\">\n",
              "      <th></th>\n",
              "      <th>season</th>\n",
              "      <th>episode_num_in_season</th>\n",
              "      <th>episode_num_overall</th>\n",
              "      <th>title</th>\n",
              "      <th>directed_by</th>\n",
              "      <th>written_by</th>\n",
              "      <th>original_air_date</th>\n",
              "      <th>prod_code</th>\n",
              "      <th>us_viewers</th>\n",
              "    </tr>\n",
              "  </thead>\n",
              "  <tbody>\n",
              "    <tr>\n",
              "      <th>230</th>\n",
              "      <td>10</td>\n",
              "      <td>13</td>\n",
              "      <td>231</td>\n",
              "      <td>The One Where Joey Speaks French</td>\n",
              "      <td>Gary Halvorson</td>\n",
              "      <td>Sherry Bilsing-Graham &amp; Ellen Plummer</td>\n",
              "      <td>2004-02-19</td>\n",
              "      <td>176261</td>\n",
              "      <td>24270000.0</td>\n",
              "    </tr>\n",
              "    <tr>\n",
              "      <th>231</th>\n",
              "      <td>10</td>\n",
              "      <td>14</td>\n",
              "      <td>232</td>\n",
              "      <td>The One with Princess Consuela</td>\n",
              "      <td>Gary Halvorson</td>\n",
              "      <td>Story by: Robert CarlockTeleplay by: Tracy Reilly</td>\n",
              "      <td>2004-02-26</td>\n",
              "      <td>176263</td>\n",
              "      <td>22820000.0</td>\n",
              "    </tr>\n",
              "    <tr>\n",
              "      <th>232</th>\n",
              "      <td>10</td>\n",
              "      <td>15</td>\n",
              "      <td>233</td>\n",
              "      <td>The One Where Estelle Dies</td>\n",
              "      <td>Gary Halvorson</td>\n",
              "      <td>Story by: Mark KunerthTeleplay by: David Crane...</td>\n",
              "      <td>2004-04-22</td>\n",
              "      <td>176264</td>\n",
              "      <td>22640000.0</td>\n",
              "    </tr>\n",
              "    <tr>\n",
              "      <th>233</th>\n",
              "      <td>10</td>\n",
              "      <td>16</td>\n",
              "      <td>234</td>\n",
              "      <td>The One with Rachel's Going Away Party</td>\n",
              "      <td>Gary Halvorson</td>\n",
              "      <td>Andrew Reich &amp; Ted Cohen</td>\n",
              "      <td>2004-04-29</td>\n",
              "      <td>176265</td>\n",
              "      <td>24510000.0</td>\n",
              "    </tr>\n",
              "    <tr>\n",
              "      <th>234</th>\n",
              "      <td>10</td>\n",
              "      <td>17</td>\n",
              "      <td>235</td>\n",
              "      <td>The Last One</td>\n",
              "      <td>Kevin S. Bright</td>\n",
              "      <td>Marta Kauffman &amp; David Crane</td>\n",
              "      <td>2004-05-06</td>\n",
              "      <td>176266</td>\n",
              "      <td>52460000.0</td>\n",
              "    </tr>\n",
              "  </tbody>\n",
              "</table>\n",
              "</div>"
            ],
            "text/plain": [
              "     season  episode_num_in_season  ...  prod_code  us_viewers\n",
              "230      10                     13  ...     176261  24270000.0\n",
              "231      10                     14  ...     176263  22820000.0\n",
              "232      10                     15  ...     176264  22640000.0\n",
              "233      10                     16  ...     176265  24510000.0\n",
              "234      10                     17  ...     176266  52460000.0\n",
              "\n",
              "[5 rows x 9 columns]"
            ]
          },
          "metadata": {},
          "execution_count": 14
        }
      ],
      "source": [
        "#Removing last entry of df_episodes\n",
        "df_episodes = df_episodes[df_episodes[\"episode_num_overall\"]!=236]\n",
        "df_episodes.tail()\n"
      ]
    },
    {
      "cell_type": "code",
      "execution_count": 15,
      "metadata": {
        "colab": {
          "base_uri": "https://localhost:8080/"
        },
        "id": "WXJFXt-__Kfg",
        "outputId": "ce115721-35b5-45d0-dd3b-c8aa9b964426"
      },
      "outputs": [
        {
          "output_type": "stream",
          "name": "stdout",
          "text": [
            "<class 'pandas.core.frame.DataFrame'>\n",
            "RangeIndex: 235 entries, 0 to 234\n",
            "Data columns (total 7 columns):\n",
            " #   Column             Non-Null Count  Dtype  \n",
            "---  ------             --------------  -----  \n",
            " 0   season             235 non-null    int64  \n",
            " 1   episode_num        235 non-null    int64  \n",
            " 2   title              235 non-null    object \n",
            " 3   original_air_date  235 non-null    object \n",
            " 4   imdb_rating        235 non-null    float64\n",
            " 5   total_votes        235 non-null    int64  \n",
            " 6   desc               235 non-null    object \n",
            "dtypes: float64(1), int64(3), object(3)\n",
            "memory usage: 13.0+ KB\n"
          ]
        }
      ],
      "source": [
        "df_imdb.info()"
      ]
    },
    {
      "cell_type": "code",
      "execution_count": 16,
      "metadata": {
        "colab": {
          "base_uri": "https://localhost:8080/",
          "height": 300
        },
        "id": "A43LKRy__xcH",
        "outputId": "2274d685-00a0-4455-b211-43d874a6a4d6"
      },
      "outputs": [
        {
          "output_type": "execute_result",
          "data": {
            "text/html": [
              "<div>\n",
              "<style scoped>\n",
              "    .dataframe tbody tr th:only-of-type {\n",
              "        vertical-align: middle;\n",
              "    }\n",
              "\n",
              "    .dataframe tbody tr th {\n",
              "        vertical-align: top;\n",
              "    }\n",
              "\n",
              "    .dataframe thead th {\n",
              "        text-align: right;\n",
              "    }\n",
              "</style>\n",
              "<table border=\"1\" class=\"dataframe\">\n",
              "  <thead>\n",
              "    <tr style=\"text-align: right;\">\n",
              "      <th></th>\n",
              "      <th>season</th>\n",
              "      <th>episode_num_in_season</th>\n",
              "      <th>episode_num_overall</th>\n",
              "      <th>us_viewers</th>\n",
              "    </tr>\n",
              "  </thead>\n",
              "  <tbody>\n",
              "    <tr>\n",
              "      <th>count</th>\n",
              "      <td>235.000000</td>\n",
              "      <td>235.000000</td>\n",
              "      <td>235.000000</td>\n",
              "      <td>2.350000e+02</td>\n",
              "    </tr>\n",
              "    <tr>\n",
              "      <th>mean</th>\n",
              "      <td>5.357447</td>\n",
              "      <td>12.353191</td>\n",
              "      <td>117.897872</td>\n",
              "      <td>2.527562e+07</td>\n",
              "    </tr>\n",
              "    <tr>\n",
              "      <th>std</th>\n",
              "      <td>2.804129</td>\n",
              "      <td>6.941048</td>\n",
              "      <td>68.122927</td>\n",
              "      <td>4.911925e+06</td>\n",
              "    </tr>\n",
              "    <tr>\n",
              "      <th>min</th>\n",
              "      <td>1.000000</td>\n",
              "      <td>1.000000</td>\n",
              "      <td>1.000000</td>\n",
              "      <td>1.565000e+07</td>\n",
              "    </tr>\n",
              "    <tr>\n",
              "      <th>25%</th>\n",
              "      <td>3.000000</td>\n",
              "      <td>6.000000</td>\n",
              "      <td>59.500000</td>\n",
              "      <td>2.235000e+07</td>\n",
              "    </tr>\n",
              "    <tr>\n",
              "      <th>50%</th>\n",
              "      <td>5.000000</td>\n",
              "      <td>12.000000</td>\n",
              "      <td>118.000000</td>\n",
              "      <td>2.448000e+07</td>\n",
              "    </tr>\n",
              "    <tr>\n",
              "      <th>75%</th>\n",
              "      <td>8.000000</td>\n",
              "      <td>18.000000</td>\n",
              "      <td>176.500000</td>\n",
              "      <td>2.761000e+07</td>\n",
              "    </tr>\n",
              "    <tr>\n",
              "      <th>max</th>\n",
              "      <td>10.000000</td>\n",
              "      <td>25.000000</td>\n",
              "      <td>235.000000</td>\n",
              "      <td>5.290000e+07</td>\n",
              "    </tr>\n",
              "  </tbody>\n",
              "</table>\n",
              "</div>"
            ],
            "text/plain": [
              "           season  episode_num_in_season  episode_num_overall    us_viewers\n",
              "count  235.000000             235.000000           235.000000  2.350000e+02\n",
              "mean     5.357447              12.353191           117.897872  2.527562e+07\n",
              "std      2.804129               6.941048            68.122927  4.911925e+06\n",
              "min      1.000000               1.000000             1.000000  1.565000e+07\n",
              "25%      3.000000               6.000000            59.500000  2.235000e+07\n",
              "50%      5.000000              12.000000           118.000000  2.448000e+07\n",
              "75%      8.000000              18.000000           176.500000  2.761000e+07\n",
              "max     10.000000              25.000000           235.000000  5.290000e+07"
            ]
          },
          "metadata": {},
          "execution_count": 16
        }
      ],
      "source": [
        "df_episodes.describe()"
      ]
    },
    {
      "cell_type": "markdown",
      "source": [
        "The maximum number of us_viewers was almost 2 times that of the 75th percentile."
      ],
      "metadata": {
        "id": "8XioMqkATRqN"
      }
    },
    {
      "cell_type": "code",
      "execution_count": 17,
      "metadata": {
        "colab": {
          "base_uri": "https://localhost:8080/",
          "height": 300
        },
        "id": "wTB8yBOb_5uX",
        "outputId": "c16bf2a4-e61c-4d7b-d5ae-6e2100688f32"
      },
      "outputs": [
        {
          "output_type": "execute_result",
          "data": {
            "text/html": [
              "<div>\n",
              "<style scoped>\n",
              "    .dataframe tbody tr th:only-of-type {\n",
              "        vertical-align: middle;\n",
              "    }\n",
              "\n",
              "    .dataframe tbody tr th {\n",
              "        vertical-align: top;\n",
              "    }\n",
              "\n",
              "    .dataframe thead th {\n",
              "        text-align: right;\n",
              "    }\n",
              "</style>\n",
              "<table border=\"1\" class=\"dataframe\">\n",
              "  <thead>\n",
              "    <tr style=\"text-align: right;\">\n",
              "      <th></th>\n",
              "      <th>season</th>\n",
              "      <th>episode_num</th>\n",
              "      <th>imdb_rating</th>\n",
              "      <th>total_votes</th>\n",
              "    </tr>\n",
              "  </thead>\n",
              "  <tbody>\n",
              "    <tr>\n",
              "      <th>count</th>\n",
              "      <td>235.000000</td>\n",
              "      <td>235.000000</td>\n",
              "      <td>235.000000</td>\n",
              "      <td>235.000000</td>\n",
              "    </tr>\n",
              "    <tr>\n",
              "      <th>mean</th>\n",
              "      <td>5.357447</td>\n",
              "      <td>12.353191</td>\n",
              "      <td>8.422553</td>\n",
              "      <td>4439.387234</td>\n",
              "    </tr>\n",
              "    <tr>\n",
              "      <th>std</th>\n",
              "      <td>2.804129</td>\n",
              "      <td>6.941048</td>\n",
              "      <td>0.410183</td>\n",
              "      <td>1081.935073</td>\n",
              "    </tr>\n",
              "    <tr>\n",
              "      <th>min</th>\n",
              "      <td>1.000000</td>\n",
              "      <td>1.000000</td>\n",
              "      <td>7.100000</td>\n",
              "      <td>3427.000000</td>\n",
              "    </tr>\n",
              "    <tr>\n",
              "      <th>25%</th>\n",
              "      <td>3.000000</td>\n",
              "      <td>6.000000</td>\n",
              "      <td>8.100000</td>\n",
              "      <td>3832.500000</td>\n",
              "    </tr>\n",
              "    <tr>\n",
              "      <th>50%</th>\n",
              "      <td>5.000000</td>\n",
              "      <td>12.000000</td>\n",
              "      <td>8.400000</td>\n",
              "      <td>4168.000000</td>\n",
              "    </tr>\n",
              "    <tr>\n",
              "      <th>75%</th>\n",
              "      <td>8.000000</td>\n",
              "      <td>18.000000</td>\n",
              "      <td>8.700000</td>\n",
              "      <td>4719.000000</td>\n",
              "    </tr>\n",
              "    <tr>\n",
              "      <th>max</th>\n",
              "      <td>10.000000</td>\n",
              "      <td>25.000000</td>\n",
              "      <td>9.700000</td>\n",
              "      <td>14033.000000</td>\n",
              "    </tr>\n",
              "  </tbody>\n",
              "</table>\n",
              "</div>"
            ],
            "text/plain": [
              "           season  episode_num  imdb_rating   total_votes\n",
              "count  235.000000   235.000000   235.000000    235.000000\n",
              "mean     5.357447    12.353191     8.422553   4439.387234\n",
              "std      2.804129     6.941048     0.410183   1081.935073\n",
              "min      1.000000     1.000000     7.100000   3427.000000\n",
              "25%      3.000000     6.000000     8.100000   3832.500000\n",
              "50%      5.000000    12.000000     8.400000   4168.000000\n",
              "75%      8.000000    18.000000     8.700000   4719.000000\n",
              "max     10.000000    25.000000     9.700000  14033.000000"
            ]
          },
          "metadata": {},
          "execution_count": 17
        }
      ],
      "source": [
        "df_imdb.describe()"
      ]
    },
    {
      "cell_type": "markdown",
      "source": [
        "The maximum total_votes was nearly 3 times that of the 75th percentile."
      ],
      "metadata": {
        "id": "zxUCxV47TZcR"
      }
    },
    {
      "cell_type": "code",
      "execution_count": 18,
      "metadata": {
        "colab": {
          "base_uri": "https://localhost:8080/"
        },
        "id": "6N9ZOFysAKpF",
        "outputId": "02d87b33-74a3-4f24-90d0-ca934cc624e1"
      },
      "outputs": [
        {
          "output_type": "execute_result",
          "data": {
            "text/plain": [
              "13     2\n",
              "235    1\n",
              "75     1\n",
              "87     1\n",
              "86     1\n",
              "      ..\n",
              "153    1\n",
              "152    1\n",
              "151    1\n",
              "150    1\n",
              "1      1\n",
              "Name: episode_num_overall, Length: 234, dtype: int64"
            ]
          },
          "metadata": {},
          "execution_count": 18
        }
      ],
      "source": [
        "df_episodes[\"episode_num_overall\"].value_counts()"
      ]
    },
    {
      "cell_type": "markdown",
      "source": [
        "It can be seen here that there might be a duplicate episode number."
      ],
      "metadata": {
        "id": "TuQG4QTHTjK7"
      }
    },
    {
      "cell_type": "code",
      "execution_count": 19,
      "metadata": {
        "colab": {
          "base_uri": "https://localhost:8080/",
          "height": 112
        },
        "id": "LxG85njfDMV5",
        "outputId": "1fd82c46-e721-4431-da31-5325b994d672"
      },
      "outputs": [
        {
          "output_type": "execute_result",
          "data": {
            "text/html": [
              "<div>\n",
              "<style scoped>\n",
              "    .dataframe tbody tr th:only-of-type {\n",
              "        vertical-align: middle;\n",
              "    }\n",
              "\n",
              "    .dataframe tbody tr th {\n",
              "        vertical-align: top;\n",
              "    }\n",
              "\n",
              "    .dataframe thead th {\n",
              "        text-align: right;\n",
              "    }\n",
              "</style>\n",
              "<table border=\"1\" class=\"dataframe\">\n",
              "  <thead>\n",
              "    <tr style=\"text-align: right;\">\n",
              "      <th></th>\n",
              "      <th>season</th>\n",
              "      <th>episode_num_in_season</th>\n",
              "      <th>episode_num_overall</th>\n",
              "      <th>title</th>\n",
              "      <th>directed_by</th>\n",
              "      <th>written_by</th>\n",
              "      <th>original_air_date</th>\n",
              "      <th>prod_code</th>\n",
              "      <th>us_viewers</th>\n",
              "    </tr>\n",
              "  </thead>\n",
              "  <tbody>\n",
              "    <tr>\n",
              "      <th>12</th>\n",
              "      <td>1</td>\n",
              "      <td>13</td>\n",
              "      <td>13</td>\n",
              "      <td>The One with the Boobies</td>\n",
              "      <td>Alan Myerson</td>\n",
              "      <td>Alexa Junge</td>\n",
              "      <td>1995-01-19</td>\n",
              "      <td>456664</td>\n",
              "      <td>25800000.0</td>\n",
              "    </tr>\n",
              "    <tr>\n",
              "      <th>36</th>\n",
              "      <td>2</td>\n",
              "      <td>13</td>\n",
              "      <td>13</td>\n",
              "      <td>The One After the Superbowl: Part 2</td>\n",
              "      <td>Michael Lembeck</td>\n",
              "      <td>Michael Borkow</td>\n",
              "      <td>1996-01-28</td>\n",
              "      <td>457314</td>\n",
              "      <td>52900000.0</td>\n",
              "    </tr>\n",
              "  </tbody>\n",
              "</table>\n",
              "</div>"
            ],
            "text/plain": [
              "    season  episode_num_in_season  ...  prod_code  us_viewers\n",
              "12       1                     13  ...     456664  25800000.0\n",
              "36       2                     13  ...     457314  52900000.0\n",
              "\n",
              "[2 rows x 9 columns]"
            ]
          },
          "metadata": {},
          "execution_count": 19
        }
      ],
      "source": [
        "#Searching for Duplicate\n",
        "df_episodes[df_episodes[\"episode_num_overall\"]==13]"
      ]
    },
    {
      "cell_type": "markdown",
      "source": [
        "Upon further investigation, the episode_num_overall was labelled wrongly. The episode_num_overall should be 37 rather than 13, and is corrected in the code below."
      ],
      "metadata": {
        "id": "otI2jUdgTpbJ"
      }
    },
    {
      "cell_type": "code",
      "execution_count": 20,
      "metadata": {
        "colab": {
          "base_uri": "https://localhost:8080/",
          "height": 81
        },
        "id": "K6Zb53CSFujK",
        "outputId": "6af3b48d-8792-427b-997d-202ffc83c98d"
      },
      "outputs": [
        {
          "output_type": "execute_result",
          "data": {
            "text/html": [
              "<div>\n",
              "<style scoped>\n",
              "    .dataframe tbody tr th:only-of-type {\n",
              "        vertical-align: middle;\n",
              "    }\n",
              "\n",
              "    .dataframe tbody tr th {\n",
              "        vertical-align: top;\n",
              "    }\n",
              "\n",
              "    .dataframe thead th {\n",
              "        text-align: right;\n",
              "    }\n",
              "</style>\n",
              "<table border=\"1\" class=\"dataframe\">\n",
              "  <thead>\n",
              "    <tr style=\"text-align: right;\">\n",
              "      <th></th>\n",
              "      <th>season</th>\n",
              "      <th>episode_num_in_season</th>\n",
              "      <th>episode_num_overall</th>\n",
              "      <th>title</th>\n",
              "      <th>directed_by</th>\n",
              "      <th>written_by</th>\n",
              "      <th>original_air_date</th>\n",
              "      <th>prod_code</th>\n",
              "      <th>us_viewers</th>\n",
              "    </tr>\n",
              "  </thead>\n",
              "  <tbody>\n",
              "    <tr>\n",
              "      <th>12</th>\n",
              "      <td>1</td>\n",
              "      <td>13</td>\n",
              "      <td>13</td>\n",
              "      <td>The One with the Boobies</td>\n",
              "      <td>Alan Myerson</td>\n",
              "      <td>Alexa Junge</td>\n",
              "      <td>1995-01-19</td>\n",
              "      <td>456664</td>\n",
              "      <td>25800000.0</td>\n",
              "    </tr>\n",
              "  </tbody>\n",
              "</table>\n",
              "</div>"
            ],
            "text/plain": [
              "    season  episode_num_in_season  ...  prod_code  us_viewers\n",
              "12       1                     13  ...     456664  25800000.0\n",
              "\n",
              "[1 rows x 9 columns]"
            ]
          },
          "metadata": {},
          "execution_count": 20
        }
      ],
      "source": [
        "#Correcting Duplicate\n",
        "df_episodes.loc[36, \"episode_num_overall\"]=37\n",
        "df_episodes[df_episodes[\"episode_num_overall\"]==13]"
      ]
    },
    {
      "cell_type": "code",
      "execution_count": 21,
      "metadata": {
        "colab": {
          "base_uri": "https://localhost:8080/"
        },
        "id": "xEhe6UXVH9Zp",
        "outputId": "df39b7ae-dab3-4194-cb80-19af57781d57"
      },
      "outputs": [
        {
          "output_type": "execute_result",
          "data": {
            "text/plain": [
              "235"
            ]
          },
          "metadata": {},
          "execution_count": 21
        }
      ],
      "source": [
        "len(pd.unique(df_imdb[\"title\"]))"
      ]
    },
    {
      "cell_type": "markdown",
      "source": [
        "There is no duplicate episode in the imdb dataframe"
      ],
      "metadata": {
        "id": "rcaxLggeT06f"
      }
    },
    {
      "cell_type": "markdown",
      "metadata": {
        "id": "UKK9uJo9UPPB"
      },
      "source": [
        "## Visualisations"
      ]
    },
    {
      "cell_type": "markdown",
      "metadata": {
        "id": "uv70SY-yUcR4"
      },
      "source": [
        "### How has the popularity of Friends Changed with Each Episode?"
      ]
    },
    {
      "cell_type": "code",
      "execution_count": 32,
      "metadata": {
        "colab": {
          "base_uri": "https://localhost:8080/",
          "height": 424
        },
        "id": "rlalpz-bUT0t",
        "outputId": "2a102163-071e-49b0-895c-45b581123541"
      },
      "outputs": [
        {
          "output_type": "display_data",
          "data": {
            "image/png": "[encoded data removed]",
            "text/plain": [
              "<Figure size 1600x480 with 1 Axes>"
            ]
          },
          "metadata": {
            "needs_background": "light"
          }
        }
      ],
      "source": [
        "import matplotlib.pyplot as plt\n",
        "from matplotlib.pyplot import figure\n",
        "figure(figsize=(20,6), dpi=80)\n",
        "plt.plot(df_episodes[\"episode_num_overall\"], df_episodes[\"us_viewers\"])\n",
        "season_boundaries = [25, 49, 74, 98, 122, 147, 171, 195, 219]\n",
        "for boundary in season_boundaries:\n",
        "  plt.axvline(x=boundary, linestyle=\"dotted\")\n"
      ]
    },
    {
      "cell_type": "markdown",
      "source": [
        "It can be seen that Friends hit its peak viewership in Season 2 and the final episode. Viewership also dropped to an all time low in Season 7."
      ],
      "metadata": {
        "id": "U8vVBIa8UCfs"
      }
    },
    {
      "cell_type": "markdown",
      "metadata": {
        "id": "xP9e_4mHVove"
      },
      "source": [
        "### How has the Show's IMDb Rating Changed with Each Episode?"
      ]
    },
    {
      "cell_type": "code",
      "execution_count": 33,
      "metadata": {
        "colab": {
          "base_uri": "https://localhost:8080/",
          "height": 413
        },
        "id": "wBzBVW1jV6NY",
        "outputId": "39bb1a71-a97a-45a0-c225-8f10bd2eb9b6"
      },
      "outputs": [
        {
          "output_type": "display_data",
          "data": {
            "image/png": "[encoded data removed]",
            "text/plain": [
              "<Figure size 1600x480 with 1 Axes>"
            ]
          },
          "metadata": {
            "needs_background": "light"
          }
        }
      ],
      "source": [
        "figure(figsize=(20,6), dpi=80)\n",
        "plt.plot(df_imdb[\"imdb_rating\"])\n",
        "for boundary in season_boundaries:\n",
        "  plt.axvline(x=boundary-1, linestyle=\"dotted\")"
      ]
    },
    {
      "cell_type": "markdown",
      "source": [
        "For IMDb ratings, Friends achieved a peak in its final episode and in Season 5, and achieved a low in Season 4."
      ],
      "metadata": {
        "id": "7HJFAlycUa3k"
      }
    },
    {
      "cell_type": "markdown",
      "metadata": {
        "id": "81PA1hlWWV4C"
      },
      "source": [
        "### Are IMDb Ratings associated with Viewership?"
      ]
    },
    {
      "cell_type": "code",
      "execution_count": 40,
      "metadata": {
        "id": "dCx2xAspWVZO",
        "colab": {
          "base_uri": "https://localhost:8080/",
          "height": 295
        },
        "outputId": "c01de793-e0f3-42a3-9839-ed9cda7d74a0"
      },
      "outputs": [
        {
          "output_type": "execute_result",
          "data": {
            "text/plain": [
              "<matplotlib.collections.PathCollection at 0x7f87173e1690>"
            ]
          },
          "metadata": {},
          "execution_count": 40
        },
        {
          "output_type": "display_data",
          "data": {
            "image/png": "[encoded data removed]",
            "text/plain": [
              "<Figure size 432x288 with 1 Axes>"
            ]
          },
          "metadata": {
            "needs_background": "light"
          }
        }
      ],
      "source": [
        "plt.scatter(df_episodes[\"us_viewers\"], df_imdb[\"imdb_rating\"])"
      ]
    },
    {
      "cell_type": "markdown",
      "source": [
        "There seems to be positive correlation between IMDb ratings and viewership."
      ],
      "metadata": {
        "id": "MW2pvDPRUnQk"
      }
    },
    {
      "cell_type": "markdown",
      "metadata": {
        "id": "R7hWqSKqW8Lo"
      },
      "source": [
        "### Top 5 Directors by Total Number of Episodes"
      ]
    },
    {
      "cell_type": "code",
      "execution_count": 41,
      "metadata": {
        "id": "C6YpR5OpXKPD",
        "colab": {
          "base_uri": "https://localhost:8080/"
        },
        "outputId": "abf8a635-d92d-41d9-e9dc-79700959fc54"
      },
      "outputs": [
        {
          "output_type": "execute_result",
          "data": {
            "text/plain": [
              "directed_by\n",
              "Gary Halvorson     54\n",
              "Kevin S. Bright    52\n",
              "Michael Lembeck    24\n",
              "James Burrows      15\n",
              "Gail Mancuso       14\n",
              "dtype: int64"
            ]
          },
          "metadata": {},
          "execution_count": 41
        }
      ],
      "source": [
        "df_episodes.value_counts(\"directed_by\").head()"
      ]
    },
    {
      "cell_type": "markdown",
      "metadata": {
        "id": "D_SxwgPGYk5U"
      },
      "source": [
        "### Top 5 Directors by Average Viewership"
      ]
    },
    {
      "cell_type": "code",
      "execution_count": 42,
      "metadata": {
        "colab": {
          "base_uri": "https://localhost:8080/",
          "height": 269
        },
        "id": "VbT5W0fNZBCB",
        "outputId": "3253b5a9-ae85-438b-e3d7-2b4bbac0f5e4"
      },
      "outputs": [
        {
          "output_type": "execute_result",
          "data": {
            "text/html": [
              "<div>\n",
              "<style scoped>\n",
              "    .dataframe tbody tr th:only-of-type {\n",
              "        vertical-align: middle;\n",
              "    }\n",
              "\n",
              "    .dataframe tbody tr th {\n",
              "        vertical-align: top;\n",
              "    }\n",
              "\n",
              "    .dataframe thead tr th {\n",
              "        text-align: left;\n",
              "    }\n",
              "\n",
              "    .dataframe thead tr:last-of-type th {\n",
              "        text-align: right;\n",
              "    }\n",
              "</style>\n",
              "<table border=\"1\" class=\"dataframe\">\n",
              "  <thead>\n",
              "    <tr>\n",
              "      <th></th>\n",
              "      <th>us_viewers</th>\n",
              "    </tr>\n",
              "    <tr>\n",
              "      <th></th>\n",
              "      <th>mean</th>\n",
              "    </tr>\n",
              "    <tr>\n",
              "      <th>directed_by</th>\n",
              "      <th></th>\n",
              "    </tr>\n",
              "  </thead>\n",
              "  <tbody>\n",
              "    <tr>\n",
              "      <th>Mary Kay Place</th>\n",
              "      <td>3.290000e+07</td>\n",
              "    </tr>\n",
              "    <tr>\n",
              "      <th>Thomas Schlamme</th>\n",
              "      <td>3.190000e+07</td>\n",
              "    </tr>\n",
              "    <tr>\n",
              "      <th>Michael Lembeck</th>\n",
              "      <td>2.958792e+07</td>\n",
              "    </tr>\n",
              "    <tr>\n",
              "      <th>Ellen Gittelsohn</th>\n",
              "      <td>2.830000e+07</td>\n",
              "    </tr>\n",
              "    <tr>\n",
              "      <th>Robby Benson</th>\n",
              "      <td>2.793167e+07</td>\n",
              "    </tr>\n",
              "  </tbody>\n",
              "</table>\n",
              "</div>"
            ],
            "text/plain": [
              "                    us_viewers\n",
              "                          mean\n",
              "directed_by                   \n",
              "Mary Kay Place    3.290000e+07\n",
              "Thomas Schlamme   3.190000e+07\n",
              "Michael Lembeck   2.958792e+07\n",
              "Ellen Gittelsohn  2.830000e+07\n",
              "Robby Benson      2.793167e+07"
            ]
          },
          "metadata": {},
          "execution_count": 42
        }
      ],
      "source": [
        "df_episodes.groupby([\"directed_by\"]).agg({\"us_viewers\":[\"mean\"]}).sort_values((\"us_viewers\",\"mean\"), ascending = False).head()"
      ]
    },
    {
      "cell_type": "markdown",
      "source": [
        "### Which Character has Appeared the Most in the Title?"
      ],
      "metadata": {
        "id": "UZXDXYE4OjLK"
      }
    },
    {
      "cell_type": "code",
      "source": [
        "characters = [\"Joey\",\"Chandler\",\"Ross\",\"Rachel\",\"Monica\",\"Phoebe\"]\n",
        "count=[]\n",
        "for character in characters:\n",
        "  count.append(df_episodes[\"title\"].str.count(character).sum())\n",
        "pd.DataFrame(count, characters).sort_values(0, ascending = False)"
      ],
      "metadata": {
        "colab": {
          "base_uri": "https://localhost:8080/",
          "height": 238
        },
        "id": "hsAUgNepOigZ",
        "outputId": "d4717f04-1e1d-4497-aa63-adad75a02292"
      },
      "execution_count": 31,
      "outputs": [
        {
          "output_type": "execute_result",
          "data": {
            "text/html": [
              "<div>\n",
              "<style scoped>\n",
              "    .dataframe tbody tr th:only-of-type {\n",
              "        vertical-align: middle;\n",
              "    }\n",
              "\n",
              "    .dataframe tbody tr th {\n",
              "        vertical-align: top;\n",
              "    }\n",
              "\n",
              "    .dataframe thead th {\n",
              "        text-align: right;\n",
              "    }\n",
              "</style>\n",
              "<table border=\"1\" class=\"dataframe\">\n",
              "  <thead>\n",
              "    <tr style=\"text-align: right;\">\n",
              "      <th></th>\n",
              "      <th>0</th>\n",
              "    </tr>\n",
              "  </thead>\n",
              "  <tbody>\n",
              "    <tr>\n",
              "      <th>Rachel</th>\n",
              "      <td>28</td>\n",
              "    </tr>\n",
              "    <tr>\n",
              "      <th>Ross</th>\n",
              "      <td>24</td>\n",
              "    </tr>\n",
              "    <tr>\n",
              "      <th>Joey</th>\n",
              "      <td>16</td>\n",
              "    </tr>\n",
              "    <tr>\n",
              "      <th>Chandler</th>\n",
              "      <td>11</td>\n",
              "    </tr>\n",
              "    <tr>\n",
              "      <th>Phoebe</th>\n",
              "      <td>10</td>\n",
              "    </tr>\n",
              "    <tr>\n",
              "      <th>Monica</th>\n",
              "      <td>9</td>\n",
              "    </tr>\n",
              "  </tbody>\n",
              "</table>\n",
              "</div>"
            ],
            "text/plain": [
              "           0\n",
              "Rachel    28\n",
              "Ross      24\n",
              "Joey      16\n",
              "Chandler  11\n",
              "Phoebe    10\n",
              "Monica     9"
            ]
          },
          "metadata": {},
          "execution_count": 31
        }
      ]
    },
    {
      "cell_type": "markdown",
      "source": [
        "Ross and Rachel has appeared the most in the title. I guess their relationship is the highlight of the show."
      ],
      "metadata": {
        "id": "rkWq0RjZUvvB"
      }
    }
  ],
  "metadata": {
    "colab": {
      "name": "FriendsEDA.ipynb",
      "provenance": [],
      "authorship_tag": "ABX9TyNM4QJqxU80glxY5VlfJCHZ",
      "include_colab_link": true
    },
    "kernelspec": {
      "display_name": "Python 3",
      "name": "python3"
    },
    "language_info": {
      "name": "python"
    }
  },
  "nbformat": 4,
  "nbformat_minor": 0
}